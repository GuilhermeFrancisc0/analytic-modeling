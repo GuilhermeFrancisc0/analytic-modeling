{
 "cells": [
  {
   "cell_type": "markdown",
   "id": "higher-techno",
   "metadata": {},
   "source": [
    "# Import"
   ]
  },
  {
   "cell_type": "code",
   "execution_count": 1,
   "id": "fewer-leader",
   "metadata": {},
   "outputs": [],
   "source": [
    "from pandas import read_csv\n",
    "from datetime import datetime as dt\n",
    "from sklearn.metrics import mean_squared_error\n",
    "from math import sqrt\n",
    "from matplotlib import pyplot\n",
    "from pandas import concat\n",
    "\n",
    "import numpy as np\n",
    "import datetime"
   ]
  },
  {
   "cell_type": "code",
   "execution_count": 2,
   "id": "supported-physiology",
   "metadata": {},
   "outputs": [],
   "source": [
    "import warnings\n",
    "warnings.filterwarnings('ignore')"
   ]
  },
  {
   "cell_type": "markdown",
   "id": "arbitrary-bronze",
   "metadata": {},
   "source": [
    "# Load data"
   ]
  },
  {
   "cell_type": "code",
   "execution_count": 3,
   "id": "burning-record",
   "metadata": {
    "scrolled": true
   },
   "outputs": [
    {
     "data": {
      "text/html": [
       "<div>\n",
       "<style scoped>\n",
       "    .dataframe tbody tr th:only-of-type {\n",
       "        vertical-align: middle;\n",
       "    }\n",
       "\n",
       "    .dataframe tbody tr th {\n",
       "        vertical-align: top;\n",
       "    }\n",
       "\n",
       "    .dataframe thead th {\n",
       "        text-align: right;\n",
       "    }\n",
       "</style>\n",
       "<table border=\"1\" class=\"dataframe\">\n",
       "  <thead>\n",
       "    <tr style=\"text-align: right;\">\n",
       "      <th></th>\n",
       "      <th>value</th>\n",
       "      <th>date</th>\n",
       "    </tr>\n",
       "    <tr>\n",
       "      <th>index</th>\n",
       "      <th></th>\n",
       "      <th></th>\n",
       "    </tr>\n",
       "  </thead>\n",
       "  <tbody>\n",
       "    <tr>\n",
       "      <th>2000-01-01 00:00:00</th>\n",
       "      <td>2422.5</td>\n",
       "      <td>2000-01-01 00:00:00</td>\n",
       "    </tr>\n",
       "    <tr>\n",
       "      <th>2000-01-01 01:00:00</th>\n",
       "      <td>2769.3</td>\n",
       "      <td>2000-01-01 01:00:00</td>\n",
       "    </tr>\n",
       "    <tr>\n",
       "      <th>2000-01-01 02:00:00</th>\n",
       "      <td>3124.7</td>\n",
       "      <td>2000-01-01 02:00:00</td>\n",
       "    </tr>\n",
       "    <tr>\n",
       "      <th>2000-01-01 03:00:00</th>\n",
       "      <td>3154.6</td>\n",
       "      <td>2000-01-01 03:00:00</td>\n",
       "    </tr>\n",
       "    <tr>\n",
       "      <th>2000-01-01 04:00:00</th>\n",
       "      <td>3121.8</td>\n",
       "      <td>2000-01-01 04:00:00</td>\n",
       "    </tr>\n",
       "  </tbody>\n",
       "</table>\n",
       "</div>"
      ],
      "text/plain": [
       "                      value                date\n",
       "index                                          \n",
       "2000-01-01 00:00:00  2422.5 2000-01-01 00:00:00\n",
       "2000-01-01 01:00:00  2769.3 2000-01-01 01:00:00\n",
       "2000-01-01 02:00:00  3124.7 2000-01-01 02:00:00\n",
       "2000-01-01 03:00:00  3154.6 2000-01-01 03:00:00\n",
       "2000-01-01 04:00:00  3121.8 2000-01-01 04:00:00"
      ]
     },
     "execution_count": 3,
     "metadata": {},
     "output_type": "execute_result"
    }
   ],
   "source": [
    "dt_parse = lambda dates: dt.strptime(dates, '%Y-%m-%d %H:%M:%S')\n",
    "\n",
    "train = read_csv('data/transformed/2000_2021_Brazilian_North_Region_hourly_MWmed_hydroelectric_power_series.csv',\n",
    "                 header=0, names=['index','value', 'date'], index_col='index', parse_dates=True, squeeze=True)\n",
    "train['value'] = train['value'].astype(float)\n",
    "train['date'] = train['date'].astype('datetime64')\n",
    "train = train[train['value'] > 0.0]\n",
    "\n",
    "train.head()"
   ]
  },
  {
   "cell_type": "code",
   "execution_count": 4,
   "id": "fatal-shirt",
   "metadata": {
    "pycharm": {
     "name": "#%%\n"
    },
    "scrolled": true
   },
   "outputs": [
    {
     "data": {
      "text/html": [
       "<div>\n",
       "<style scoped>\n",
       "    .dataframe tbody tr th:only-of-type {\n",
       "        vertical-align: middle;\n",
       "    }\n",
       "\n",
       "    .dataframe tbody tr th {\n",
       "        vertical-align: top;\n",
       "    }\n",
       "\n",
       "    .dataframe thead th {\n",
       "        text-align: right;\n",
       "    }\n",
       "</style>\n",
       "<table border=\"1\" class=\"dataframe\">\n",
       "  <thead>\n",
       "    <tr style=\"text-align: right;\">\n",
       "      <th></th>\n",
       "      <th>value</th>\n",
       "      <th>date</th>\n",
       "    </tr>\n",
       "    <tr>\n",
       "      <th>index</th>\n",
       "      <th></th>\n",
       "      <th></th>\n",
       "    </tr>\n",
       "  </thead>\n",
       "  <tbody>\n",
       "    <tr>\n",
       "      <th>2019-01-01 00:00:00</th>\n",
       "      <td>7297.073</td>\n",
       "      <td>2019-01-01 00:00:00</td>\n",
       "    </tr>\n",
       "    <tr>\n",
       "      <th>2019-01-01 01:00:00</th>\n",
       "      <td>6900.449</td>\n",
       "      <td>2019-01-01 01:00:00</td>\n",
       "    </tr>\n",
       "    <tr>\n",
       "      <th>2019-01-01 02:00:00</th>\n",
       "      <td>6869.606</td>\n",
       "      <td>2019-01-01 02:00:00</td>\n",
       "    </tr>\n",
       "    <tr>\n",
       "      <th>2019-01-01 03:00:00</th>\n",
       "      <td>6856.405</td>\n",
       "      <td>2019-01-01 03:00:00</td>\n",
       "    </tr>\n",
       "    <tr>\n",
       "      <th>2019-01-01 04:00:00</th>\n",
       "      <td>6853.338</td>\n",
       "      <td>2019-01-01 04:00:00</td>\n",
       "    </tr>\n",
       "  </tbody>\n",
       "</table>\n",
       "</div>"
      ],
      "text/plain": [
       "                        value                date\n",
       "index                                            \n",
       "2019-01-01 00:00:00  7297.073 2019-01-01 00:00:00\n",
       "2019-01-01 01:00:00  6900.449 2019-01-01 01:00:00\n",
       "2019-01-01 02:00:00  6869.606 2019-01-01 02:00:00\n",
       "2019-01-01 03:00:00  6856.405 2019-01-01 03:00:00\n",
       "2019-01-01 04:00:00  6853.338 2019-01-01 04:00:00"
      ]
     },
     "execution_count": 4,
     "metadata": {},
     "output_type": "execute_result"
    }
   ],
   "source": [
    "split_date = '1/1/2019 12:00:00 AM'\n",
    "test  = train[split_date : ]\n",
    "train = train[ : split_date]\n",
    "\n",
    "test.head()"
   ]
  },
  {
   "cell_type": "markdown",
   "id": "cloudy-french",
   "metadata": {},
   "source": [
    "# Concatenate train and test series to plotting"
   ]
  },
  {
   "cell_type": "code",
   "execution_count": 5,
   "id": "banned-infrastructure",
   "metadata": {
    "pycharm": {
     "name": "#%%\n"
    }
   },
   "outputs": [
    {
     "data": {
      "text/plain": [
       "index\n",
       "2000-01-01 00:00:00    2422.500\n",
       "2000-01-01 01:00:00    2769.300\n",
       "2000-01-01 02:00:00    3124.700\n",
       "2000-01-01 03:00:00    3154.600\n",
       "2000-01-01 04:00:00    3121.800\n",
       "                         ...   \n",
       "2021-01-30 20:00:00    7217.682\n",
       "2021-01-30 21:00:00    7187.145\n",
       "2021-01-30 22:00:00    6658.727\n",
       "2021-01-30 23:00:00    6529.498\n",
       "2021-01-31 00:00:00    6279.152\n",
       "Name: value, Length: 184783, dtype: float64"
      ]
     },
     "execution_count": 5,
     "metadata": {},
     "output_type": "execute_result"
    }
   ],
   "source": [
    "train = train['value']\n",
    "test = test['value']\n",
    "series = concat([train, test], axis=0)\n",
    "series"
   ]
  },
  {
   "cell_type": "markdown",
   "id": "indian-asthma",
   "metadata": {},
   "source": [
    "# Prepare data"
   ]
  },
  {
   "cell_type": "markdown",
   "id": "nominated-leave",
   "metadata": {},
   "source": [
    "O que o modelo de persistencia faz?\n",
    "\n",
    "O modelo de persistencia fala que o valor de n é igual ao de n + 1."
   ]
  },
  {
   "cell_type": "code",
   "execution_count": 6,
   "id": "closing-newton",
   "metadata": {
    "pycharm": {
     "name": "#%%\n"
    }
   },
   "outputs": [
    {
     "name": "stdout",
     "output_type": "stream",
     "text": [
      "[8566.823, 8271.562, 8012.252, 8290.312, 8289.579, 8273.642, 7498.538, 6300.131, 5519.645, 5425.253]\n",
      "[[9237.427, 9237.427, 9237.427, 9237.427, 9237.427, 9237.427, 9237.427, 9237.427, 9237.427, 9237.427, 9237.427, 9237.427, 9237.427, 9237.427, 9237.427, 9237.427, 9237.427, 9237.427, 9237.427, 9237.427, 9237.427, 9237.427, 9237.427, 9237.427], [8566.823, 8566.823, 8566.823, 8566.823, 8566.823, 8566.823, 8566.823, 8566.823, 8566.823, 8566.823, 8566.823, 8566.823, 8566.823, 8566.823, 8566.823, 8566.823, 8566.823, 8566.823, 8566.823, 8566.823, 8566.823, 8566.823, 8566.823, 8566.823], [8271.562, 8271.562, 8271.562, 8271.562, 8271.562, 8271.562, 8271.562, 8271.562, 8271.562, 8271.562, 8271.562, 8271.562, 8271.562, 8271.562, 8271.562, 8271.562, 8271.562, 8271.562, 8271.562, 8271.562, 8271.562, 8271.562, 8271.562, 8271.562], [8012.252, 8012.252, 8012.252, 8012.252, 8012.252, 8012.252, 8012.252, 8012.252, 8012.252, 8012.252, 8012.252, 8012.252, 8012.252, 8012.252, 8012.252, 8012.252, 8012.252, 8012.252, 8012.252, 8012.252, 8012.252, 8012.252, 8012.252, 8012.252], [8290.312, 8290.312, 8290.312, 8290.312, 8290.312, 8290.312, 8290.312, 8290.312, 8290.312, 8290.312, 8290.312, 8290.312, 8290.312, 8290.312, 8290.312, 8290.312, 8290.312, 8290.312, 8290.312, 8290.312, 8290.312, 8290.312, 8290.312, 8290.312], [8289.579, 8289.579, 8289.579, 8289.579, 8289.579, 8289.579, 8289.579, 8289.579, 8289.579, 8289.579, 8289.579, 8289.579, 8289.579, 8289.579, 8289.579, 8289.579, 8289.579, 8289.579, 8289.579, 8289.579, 8289.579, 8289.579, 8289.579, 8289.579], [8273.642, 8273.642, 8273.642, 8273.642, 8273.642, 8273.642, 8273.642, 8273.642, 8273.642, 8273.642, 8273.642, 8273.642, 8273.642, 8273.642, 8273.642, 8273.642, 8273.642, 8273.642, 8273.642, 8273.642, 8273.642, 8273.642, 8273.642, 8273.642], [7498.538, 7498.538, 7498.538, 7498.538, 7498.538, 7498.538, 7498.538, 7498.538, 7498.538, 7498.538, 7498.538, 7498.538, 7498.538, 7498.538, 7498.538, 7498.538, 7498.538, 7498.538, 7498.538, 7498.538, 7498.538, 7498.538, 7498.538, 7498.538], [6300.131, 6300.131, 6300.131, 6300.131, 6300.131, 6300.131, 6300.131, 6300.131, 6300.131, 6300.131, 6300.131, 6300.131, 6300.131, 6300.131, 6300.131, 6300.131, 6300.131, 6300.131, 6300.131, 6300.131, 6300.131, 6300.131, 6300.131, 6300.131], [5519.645, 5519.645, 5519.645, 5519.645, 5519.645, 5519.645, 5519.645, 5519.645, 5519.645, 5519.645, 5519.645, 5519.645, 5519.645, 5519.645, 5519.645, 5519.645, 5519.645, 5519.645, 5519.645, 5519.645, 5519.645, 5519.645, 5519.645, 5519.645]]\n"
     ]
    }
   ],
   "source": [
    "def persistence(last_ob, n_steps):\n",
    "    return [last_ob for i in range(n_steps)]\n",
    "\n",
    "\n",
    "test = test.values\n",
    "series = series.values\n",
    "train = [x for x in train]\n",
    "\n",
    "# Number of multi-step\n",
    "n_steps = 24\n",
    "\n",
    "# Store multi-step forecasts\n",
    "forecasts = list()\n",
    "\n",
    "# Number of multi-step forecasts\n",
    "n_forecasts = len(test) - n_steps + 1\n",
    "\n",
    "# Walk-forward validation\n",
    "for i in range(n_forecasts):\n",
    "    # Make a multi-step forecast\n",
    "    last_ob = train[-1]\n",
    "    yhat = persistence(last_ob, n_steps)\n",
    "    \n",
    "    # Store the multi-step forecast\n",
    "    forecasts.append(yhat)\n",
    "    \n",
    "    # Add actual observation to train for the next loop\n",
    "    obs = test[i]\n",
    "    train.append(obs)\n",
    "\n",
    "print(train[-10:])\n",
    "print(forecasts[-10:])"
   ]
  },
  {
   "cell_type": "markdown",
   "id": "laughing-vinyl",
   "metadata": {},
   "source": [
    "# Evaluate the forecasts"
   ]
  },
  {
   "cell_type": "markdown",
   "id": "engaging-fetish",
   "metadata": {},
   "source": [
    "O resultado do modelo de persistencia da a baseline. Basicamente permite comparar outros modelos com o seu resultado para assim checar sua eficiencia.\n",
    "\n",
    "Vantangens do modelo de persistencia:\n",
    "- Simples\n",
    "- Rapido\n",
    "- Facil de replicar"
   ]
  },
  {
   "cell_type": "code",
   "execution_count": 7,
   "id": "recognized-tutorial",
   "metadata": {
    "pycharm": {
     "name": "#%%\n"
    }
   },
   "outputs": [
    {
     "name": "stdout",
     "output_type": "stream",
     "text": [
      "t+1 RMSE: 409.6679707744369\n",
      "t+2 RMSE: 702.4252573745656\n",
      "t+3 RMSE: 930.8436093712165\n",
      "t+4 RMSE: 1123.278275355191\n",
      "t+5 RMSE: 1286.3788091984102\n",
      "t+6 RMSE: 1424.4259975880425\n",
      "t+7 RMSE: 1538.5519571245466\n",
      "t+8 RMSE: 1628.6314821337453\n",
      "t+9 RMSE: 1696.2535587357004\n",
      "t+10 RMSE: 1744.4603870372187\n",
      "t+11 RMSE: 1777.5107859972222\n",
      "t+12 RMSE: 1796.7560491423558\n",
      "t+13 RMSE: 1800.065064700899\n",
      "t+14 RMSE: 1792.0138367423424\n",
      "t+15 RMSE: 1772.0411287271495\n",
      "t+16 RMSE: 1736.9171166598487\n",
      "t+17 RMSE: 1685.2838250478333\n",
      "t+18 RMSE: 1617.0319445060563\n",
      "t+19 RMSE: 1535.8141285704728\n",
      "t+20 RMSE: 1447.0591545233078\n",
      "t+21 RMSE: 1356.3109858244673\n",
      "t+22 RMSE: 1272.7963562423045\n",
      "t+23 RMSE: 1206.1293188346324\n",
      "t+24 RMSE: 1182.6876348271585\n"
     ]
    }
   ],
   "source": [
    "# Evaluate the RMSE for each forecast time step\n",
    "def evaluate_forecasts(test, forecasts, n_steps):\n",
    "    for i in range(n_steps):\n",
    "        # Picking the values from multi-step forecasts\n",
    "        ypred_ts = [forecast[i] for forecast in forecasts]\n",
    "        \n",
    "        # Sliding window on test series\n",
    "        ytrue_ts = test[i:len(ypred_ts)+i]\n",
    "        print(f\"t+{(i+1)} RMSE: {sqrt(mean_squared_error(ytrue_ts, ypred_ts))}\")\n",
    "\n",
    "\n",
    "evaluate_forecasts(test, forecasts, n_steps)"
   ]
  },
  {
   "cell_type": "markdown",
   "id": "sudden-antarctica",
   "metadata": {},
   "source": [
    "# Plot the forecasts"
   ]
  },
  {
   "cell_type": "code",
   "execution_count": 8,
   "id": "corresponding-uniform",
   "metadata": {
    "pycharm": {
     "name": "#%%\n"
    },
    "scrolled": true
   },
   "outputs": [
    {
     "data": {
      "image/png": "[encoded data removed]",
      "text/plain": [
       "<Figure size 432x288 with 1 Axes>"
      ]
     },
     "metadata": {
      "needs_background": "light"
     },
     "output_type": "display_data"
    }
   ],
   "source": [
    "# Plot the forecasts in the context of the original dataset\n",
    "def plot_forecasts(series, forecasts, test):\n",
    "    # Plot the entire dataset in blue\n",
    "    pyplot.plot(series)\n",
    "    \n",
    "    # Plot the forecasts in red\n",
    "    for i in range(len(forecasts)):\n",
    "        # Start offset for x-axis\n",
    "        off_s = len(series) - len(test) + i - 1\n",
    "        \n",
    "        # End offset for x-axis\n",
    "        off_e = off_s + len(forecasts[i]) + 1\n",
    "        \n",
    "        # Indexes of x-axis for multi-step forecasts\n",
    "        xaxis = [x for x in range(off_s, off_e)]\n",
    "        \n",
    "        # Values of muti-step fotecasts\n",
    "        yaxis = [series[off_s]] + forecasts[i]\n",
    "        pyplot.plot(xaxis, yaxis, color='red')\n",
    "        \n",
    "    # Show the final plot\n",
    "    pyplot.show()\n",
    "\n",
    "\n",
    "plot_forecasts(series, forecasts, test)"
   ]
  }
 ],
 "metadata": {
  "kernelspec": {
   "display_name": "Python 3",
   "language": "python",
   "name": "python3"
  },
  "language_info": {
   "codemirror_mode": {
    "name": "ipython",
    "version": 3
   },
   "file_extension": ".py",
   "mimetype": "text/x-python",
   "name": "python",
   "nbconvert_exporter": "python",
   "pygments_lexer": "ipython3",
   "version": "3.7.9"
  }
 },
 "nbformat": 4,
 "nbformat_minor": 5
}
