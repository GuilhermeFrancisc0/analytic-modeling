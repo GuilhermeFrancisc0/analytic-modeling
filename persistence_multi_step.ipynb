{
 "cells": [
  {
   "cell_type": "markdown",
   "id": "higher-techno",
   "metadata": {},
   "source": [
    "# Import"
   ]
  },
  {
   "cell_type": "code",
   "execution_count": 171,
   "id": "fewer-leader",
   "metadata": {},
   "outputs": [],
   "source": [
    "from pandas import read_csv\n",
    "from datetime import datetime as dt\n",
    "from sklearn.metrics import mean_squared_error\n",
    "from math import sqrt\n",
    "from matplotlib import pyplot\n",
    "from pandas import concat\n",
    "\n",
    "import numpy as np\n",
    "import datetime"
   ]
  },
  {
   "cell_type": "code",
   "execution_count": 172,
   "id": "supported-physiology",
   "metadata": {},
   "outputs": [],
   "source": [
    "import warnings\n",
    "warnings.filterwarnings('ignore')"
   ]
  },
  {
   "cell_type": "markdown",
   "id": "arbitrary-bronze",
   "metadata": {},
   "source": [
    "# Load data"
   ]
  },
  {
   "cell_type": "code",
   "execution_count": 173,
   "id": "burning-record",
   "metadata": {
    "scrolled": true
   },
   "outputs": [
    {
     "data": {
      "text/plain": "                      value                date\nindex                                          \n2000-01-01 00:00:00  2422.5 2000-01-01 00:00:00\n2000-01-01 01:00:00  2769.3 2000-01-01 01:00:00\n2000-01-01 02:00:00  3124.7 2000-01-01 02:00:00\n2000-01-01 03:00:00  3154.6 2000-01-01 03:00:00\n2000-01-01 04:00:00  3121.8 2000-01-01 04:00:00",
      "text/html": "<div>\n<style scoped>\n    .dataframe tbody tr th:only-of-type {\n        vertical-align: middle;\n    }\n\n    .dataframe tbody tr th {\n        vertical-align: top;\n    }\n\n    .dataframe thead th {\n        text-align: right;\n    }\n</style>\n<table border=\"1\" class=\"dataframe\">\n  <thead>\n    <tr style=\"text-align: right;\">\n      <th></th>\n      <th>value</th>\n      <th>date</th>\n    </tr>\n    <tr>\n      <th>index</th>\n      <th></th>\n      <th></th>\n    </tr>\n  </thead>\n  <tbody>\n    <tr>\n      <th>2000-01-01 00:00:00</th>\n      <td>2422.5</td>\n      <td>2000-01-01 00:00:00</td>\n    </tr>\n    <tr>\n      <th>2000-01-01 01:00:00</th>\n      <td>2769.3</td>\n      <td>2000-01-01 01:00:00</td>\n    </tr>\n    <tr>\n      <th>2000-01-01 02:00:00</th>\n      <td>3124.7</td>\n      <td>2000-01-01 02:00:00</td>\n    </tr>\n    <tr>\n      <th>2000-01-01 03:00:00</th>\n      <td>3154.6</td>\n      <td>2000-01-01 03:00:00</td>\n    </tr>\n    <tr>\n      <th>2000-01-01 04:00:00</th>\n      <td>3121.8</td>\n      <td>2000-01-01 04:00:00</td>\n    </tr>\n  </tbody>\n</table>\n</div>"
     },
     "execution_count": 173,
     "metadata": {},
     "output_type": "execute_result"
    }
   ],
   "source": [
    "dt_parse = lambda dates: dt.strptime(dates, '%Y-%m-%d %H:%M:%S')\n",
    "\n",
    "train = read_csv('data/transformed/2000_2021_Brazilian_North_Region_hourly_MWmed_hydroelectric_power_series.csv',\n",
    "                 header=0, names=['index','value', 'date'], index_col='index', parse_dates=True, squeeze=True)\n",
    "# test = read_csv('your_train_series.csv', header=None, index_col=0, parse_dates=True, squeeze=True)\n",
    "train['value'] = train['value'].astype(float)\n",
    "train['date'] = train['date'].astype('datetime64')\n",
    "train = train[train['value'] > 0.0]\n",
    "\n",
    "train.head()"
   ]
  },
  {
   "cell_type": "code",
   "execution_count": 174,
   "id": "fatal-shirt",
   "metadata": {
    "scrolled": true,
    "pycharm": {
     "name": "#%%\n"
    }
   },
   "outputs": [
    {
     "data": {
      "text/plain": "                        value                date\nindex                                            \n2019-01-01 00:00:00  7297.073 2019-01-01 00:00:00\n2019-01-01 01:00:00  6900.449 2019-01-01 01:00:00\n2019-01-01 02:00:00  6869.606 2019-01-01 02:00:00\n2019-01-01 03:00:00  6856.405 2019-01-01 03:00:00\n2019-01-01 04:00:00  6853.338 2019-01-01 04:00:00",
      "text/html": "<div>\n<style scoped>\n    .dataframe tbody tr th:only-of-type {\n        vertical-align: middle;\n    }\n\n    .dataframe tbody tr th {\n        vertical-align: top;\n    }\n\n    .dataframe thead th {\n        text-align: right;\n    }\n</style>\n<table border=\"1\" class=\"dataframe\">\n  <thead>\n    <tr style=\"text-align: right;\">\n      <th></th>\n      <th>value</th>\n      <th>date</th>\n    </tr>\n    <tr>\n      <th>index</th>\n      <th></th>\n      <th></th>\n    </tr>\n  </thead>\n  <tbody>\n    <tr>\n      <th>2019-01-01 00:00:00</th>\n      <td>7297.073</td>\n      <td>2019-01-01 00:00:00</td>\n    </tr>\n    <tr>\n      <th>2019-01-01 01:00:00</th>\n      <td>6900.449</td>\n      <td>2019-01-01 01:00:00</td>\n    </tr>\n    <tr>\n      <th>2019-01-01 02:00:00</th>\n      <td>6869.606</td>\n      <td>2019-01-01 02:00:00</td>\n    </tr>\n    <tr>\n      <th>2019-01-01 03:00:00</th>\n      <td>6856.405</td>\n      <td>2019-01-01 03:00:00</td>\n    </tr>\n    <tr>\n      <th>2019-01-01 04:00:00</th>\n      <td>6853.338</td>\n      <td>2019-01-01 04:00:00</td>\n    </tr>\n  </tbody>\n</table>\n</div>"
     },
     "execution_count": 174,
     "metadata": {},
     "output_type": "execute_result"
    }
   ],
   "source": [
    "split_date = '1/1/2019 12:00:00 AM'\n",
    "test  = train[split_date : ]\n",
    "train = train[ : split_date]\n",
    "\n",
    "test.head()"
   ]
  },
  {
   "cell_type": "markdown",
   "source": [
    "# Concatenate train and test series to plotting"
   ],
   "metadata": {
    "collapsed": false
   }
  },
  {
   "cell_type": "code",
   "execution_count": 175,
   "outputs": [
    {
     "data": {
      "text/plain": "index\n2000-01-01 00:00:00    2422.500\n2000-01-01 01:00:00    2769.300\n2000-01-01 02:00:00    3124.700\n2000-01-01 03:00:00    3154.600\n2000-01-01 04:00:00    3121.800\n                         ...   \n2021-01-30 20:00:00    7217.682\n2021-01-30 21:00:00    7187.145\n2021-01-30 22:00:00    6658.727\n2021-01-30 23:00:00    6529.498\n2021-01-31 00:00:00    6279.152\nName: value, Length: 184783, dtype: float64"
     },
     "execution_count": 175,
     "metadata": {},
     "output_type": "execute_result"
    }
   ],
   "source": [
    "train = train['value']\n",
    "test = test['value']\n",
    "series = concat([train, test], axis=0)\n",
    "series"
   ],
   "metadata": {
    "collapsed": false,
    "pycharm": {
     "name": "#%%\n"
    }
   }
  },
  {
   "cell_type": "markdown",
   "source": [
    "# Prepare data"
   ],
   "metadata": {
    "collapsed": false
   }
  },
  {
   "cell_type": "code",
   "execution_count": 176,
   "outputs": [
    {
     "name": "stdout",
     "output_type": "stream",
     "text": [
      "[5867.007, 5772.947, 5531.001, 5426.944, 5570.198, 5702.289, 5645.473, 5910.213, 5967.413, 6164.76]\n",
      "[[4856.806, 4856.806, 4856.806, 4856.806, 4856.806, 4856.806, 4856.806], [5867.007, 5867.007, 5867.007, 5867.007, 5867.007, 5867.007, 5867.007], [5772.947, 5772.947, 5772.947, 5772.947, 5772.947, 5772.947, 5772.947], [5531.001, 5531.001, 5531.001, 5531.001, 5531.001, 5531.001, 5531.001], [5426.944, 5426.944, 5426.944, 5426.944, 5426.944, 5426.944, 5426.944], [5570.198, 5570.198, 5570.198, 5570.198, 5570.198, 5570.198, 5570.198], [5702.289, 5702.289, 5702.289, 5702.289, 5702.289, 5702.289, 5702.289], [5645.473, 5645.473, 5645.473, 5645.473, 5645.473, 5645.473, 5645.473], [5910.213, 5910.213, 5910.213, 5910.213, 5910.213, 5910.213, 5910.213], [5967.413, 5967.413, 5967.413, 5967.413, 5967.413, 5967.413, 5967.413]]\n"
     ]
    }
   ],
   "source": [
    "def persistence(last_ob, n_steps):\n",
    "\treturn [last_ob for i in range(n_steps)]\n",
    "\n",
    "\n",
    "test = test.values\n",
    "series = series.values\n",
    "train = [x for x in train]\n",
    "# Number of multi-step\n",
    "n_steps = 7\n",
    "# Store multi-step forecasts\n",
    "forecasts = list()\n",
    "# Number of multi-step forecasts\n",
    "n_forecasts = len(test) - n_steps + 1\n",
    "# Walk-forward validation\n",
    "for i in range(n_forecasts):\n",
    "\t# Make a multi-step forecast\n",
    "\tlast_ob = train[-1]\n",
    "\tyhat = persistence(last_ob, n_steps)\n",
    "    # Store the multi-step forecast\n",
    "\tforecasts.append(yhat)\n",
    "\t# Add actual observation to train for the next loop\n",
    "\tobs = test[i]\n",
    "\ttrain.append(obs)\n",
    "\n",
    "print(train[-10:])\n",
    "print(forecasts[-10:])"
   ],
   "metadata": {
    "collapsed": false,
    "pycharm": {
     "name": "#%%\n"
    }
   }
  },
  {
   "cell_type": "markdown",
   "source": [
    "# Evaluate the forecasts"
   ],
   "metadata": {
    "collapsed": false
   }
  },
  {
   "cell_type": "code",
   "execution_count": 177,
   "outputs": [
    {
     "name": "stdout",
     "output_type": "stream",
     "text": [
      "t+1 RMSE: 409.5791668849234\n",
      "t+2 RMSE: 702.2755963495919\n",
      "t+3 RMSE: 930.6308875324014\n",
      "t+4 RMSE: 1123.00293015266\n",
      "t+5 RMSE: 1286.0373172871498\n",
      "t+6 RMSE: 1424.0263617148444\n",
      "t+7 RMSE: 1538.0858295930952\n"
     ]
    }
   ],
   "source": [
    "# Evaluate the RMSE for each forecast time step\n",
    "def evaluate_forecasts(test, forecasts, n_steps):\n",
    " for i in range(n_steps):\n",
    "    # Picking the values from multi-step forecasts\n",
    "    ypred_ts = [forecast[i] for forecast in forecasts]\n",
    "    # Sliding window on test series\n",
    "    ytrue_ts = test[i:len(ypred_ts)+i]\n",
    "    print(f\"t+{(i+1)} RMSE: {sqrt(mean_squared_error(ytrue_ts, ypred_ts))}\")\n",
    "\n",
    "\n",
    "evaluate_forecasts(test, forecasts, n_steps)"
   ],
   "metadata": {
    "collapsed": false,
    "pycharm": {
     "name": "#%%\n"
    }
   }
  },
  {
   "cell_type": "markdown",
   "source": [
    "# Plot the forecasts"
   ],
   "metadata": {
    "collapsed": false
   }
  },
  {
   "cell_type": "code",
   "execution_count": 178,
   "outputs": [
    {
     "data": {
      "text/plain": "<Figure size 432x288 with 1 Axes>",
      "image/png": "[encoded data removed]"
     },
     "metadata": {
      "needs_background": "light"
     },
     "output_type": "display_data"
    }
   ],
   "source": [
    "# Plot the forecasts in the context of the original dataset\n",
    "def plot_forecasts(series, forecasts, test):\n",
    "\t# Plot the entire dataset in blue\n",
    "\tpyplot.plot(series)\n",
    "\t# Plot the forecasts in red\n",
    "\tfor i in range(len(forecasts)):\n",
    "        # Start offset for x-axis\n",
    "\t\toff_s = len(series) - len(test) + i - 1\n",
    "        # End offset for x-axis\n",
    "\t\toff_e = off_s + len(forecasts[i]) + 1\n",
    "        # Indexes of x-axis for multi-step forecasts\n",
    "\t\txaxis = [x for x in range(off_s, off_e)]\n",
    "        # Values of muti-step fotecasts\n",
    "\t\tyaxis = [series[off_s]] + forecasts[i]\n",
    "\t\tpyplot.plot(xaxis, yaxis, color='red')\n",
    "\t# Show the final plot\n",
    "\tpyplot.show()\n",
    "\n",
    "\n",
    "plot_forecasts(series, forecasts, test)"
   ],
   "metadata": {
    "collapsed": false,
    "pycharm": {
     "name": "#%%\n"
    }
   }
  }
 ],
 "metadata": {
  "kernelspec": {
   "display_name": "Python 3",
   "language": "python",
   "name": "python3"
  },
  "language_info": {
   "codemirror_mode": {
    "name": "ipython",
    "version": 3
   },
   "file_extension": ".py",
   "mimetype": "text/x-python",
   "name": "python",
   "nbconvert_exporter": "python",
   "pygments_lexer": "ipython3",
   "version": "3.7.9"
  }
 },
 "nbformat": 4,
 "nbformat_minor": 5
}