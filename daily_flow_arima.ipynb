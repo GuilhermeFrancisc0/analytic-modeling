{
 "cells": [
  {
   "cell_type": "markdown",
   "metadata": {},
   "source": [
    "# Importando bibliotecas"
   ]
  },
  {
   "cell_type": "code",
   "execution_count": 1,
   "metadata": {
    "pycharm": {
     "name": "#%%\n"
    }
   },
   "outputs": [],
   "source": [
    "import numpy as np\n",
    "import pandas as pd\n",
    "from datetime import datetime as dt\n",
    "import statsmodels.api as sm\n",
    "from statsmodels.tsa.arima.model import ARIMA\n",
    "from math import sqrt\n",
    "from sklearn.metrics import mean_squared_error, mean_absolute_error, mean_absolute_percentage_error\n",
    "from arch.unitroot import PhillipsPerron as pp\n",
    "import matplotlib.pyplot as plt\n",
    "import seaborn as sns\n",
    "from scipy import stats\n",
    "import warnings\n",
    "warnings.simplefilter('ignore')\n",
    "%matplotlib inline\n",
    "sns.set_style(\"whitegrid\")\n",
    "plt.rc('xtick', labelsize=15)\n",
    "plt.rc('ytick', labelsize=15)"
   ]
  },
  {
   "cell_type": "markdown",
   "metadata": {},
   "source": [
    "# 1. Importando base de dados formatada"
   ]
  },
  {
   "cell_type": "markdown",
   "metadata": {
    "pycharm": {
     "name": "#%% md\n"
    }
   },
   "source": [
    "## 1.1 Tratando os dados internos"
   ]
  },
  {
   "cell_type": "code",
   "execution_count": 2,
   "metadata": {
    "pycharm": {
     "name": "#%%\n"
    }
   },
   "outputs": [
    {
     "data": {
      "text/html": [
       "<div>\n",
       "<style scoped>\n",
       "    .dataframe tbody tr th:only-of-type {\n",
       "        vertical-align: middle;\n",
       "    }\n",
       "\n",
       "    .dataframe tbody tr th {\n",
       "        vertical-align: top;\n",
       "    }\n",
       "\n",
       "    .dataframe thead th {\n",
       "        text-align: right;\n",
       "    }\n",
       "</style>\n",
       "<table border=\"1\" class=\"dataframe\">\n",
       "  <thead>\n",
       "    <tr style=\"text-align: right;\">\n",
       "      <th></th>\n",
       "      <th>value</th>\n",
       "      <th>date</th>\n",
       "    </tr>\n",
       "    <tr>\n",
       "      <th>index</th>\n",
       "      <th></th>\n",
       "      <th></th>\n",
       "    </tr>\n",
       "  </thead>\n",
       "  <tbody>\n",
       "    <tr>\n",
       "      <th>2015-01-01</th>\n",
       "      <td>481.0</td>\n",
       "      <td>2015-01-01</td>\n",
       "    </tr>\n",
       "    <tr>\n",
       "      <th>2015-01-02</th>\n",
       "      <td>481.0</td>\n",
       "      <td>2015-01-02</td>\n",
       "    </tr>\n",
       "    <tr>\n",
       "      <th>2015-01-03</th>\n",
       "      <td>473.0</td>\n",
       "      <td>2015-01-03</td>\n",
       "    </tr>\n",
       "    <tr>\n",
       "      <th>2015-01-04</th>\n",
       "      <td>472.0</td>\n",
       "      <td>2015-01-04</td>\n",
       "    </tr>\n",
       "    <tr>\n",
       "      <th>2015-01-05</th>\n",
       "      <td>461.0</td>\n",
       "      <td>2015-01-05</td>\n",
       "    </tr>\n",
       "    <tr>\n",
       "      <th>...</th>\n",
       "      <td>...</td>\n",
       "      <td>...</td>\n",
       "    </tr>\n",
       "    <tr>\n",
       "      <th>2019-12-17</th>\n",
       "      <td>281.0</td>\n",
       "      <td>2019-12-17</td>\n",
       "    </tr>\n",
       "    <tr>\n",
       "      <th>2019-12-18</th>\n",
       "      <td>299.0</td>\n",
       "      <td>2019-12-18</td>\n",
       "    </tr>\n",
       "    <tr>\n",
       "      <th>2019-12-19</th>\n",
       "      <td>312.0</td>\n",
       "      <td>2019-12-19</td>\n",
       "    </tr>\n",
       "    <tr>\n",
       "      <th>2019-12-20</th>\n",
       "      <td>311.0</td>\n",
       "      <td>2019-12-20</td>\n",
       "    </tr>\n",
       "    <tr>\n",
       "      <th>2019-12-21</th>\n",
       "      <td>295.0</td>\n",
       "      <td>2019-12-21</td>\n",
       "    </tr>\n",
       "  </tbody>\n",
       "</table>\n",
       "<p>1816 rows × 2 columns</p>\n",
       "</div>"
      ],
      "text/plain": [
       "            value       date\n",
       "index                       \n",
       "2015-01-01  481.0 2015-01-01\n",
       "2015-01-02  481.0 2015-01-02\n",
       "2015-01-03  473.0 2015-01-03\n",
       "2015-01-04  472.0 2015-01-04\n",
       "2015-01-05  461.0 2015-01-05\n",
       "...           ...        ...\n",
       "2019-12-17  281.0 2019-12-17\n",
       "2019-12-18  299.0 2019-12-18\n",
       "2019-12-19  312.0 2019-12-19\n",
       "2019-12-20  311.0 2019-12-20\n",
       "2019-12-21  295.0 2019-12-21\n",
       "\n",
       "[1816 rows x 2 columns]"
      ]
     },
     "execution_count": 2,
     "metadata": {},
     "output_type": "execute_result"
    }
   ],
   "source": [
    "dt_parse = lambda dates: dt.strptime(dates, '%Y-%m-%d')\n",
    "\n",
    "train_data  = pd.read_csv('data/transformed/DADO_TREINO_UBE_48_12_univariate.csv',\n",
    "                   header=0, names=['index','value', 'date'], parse_dates=True, index_col='index', date_parser=dt_parse)\n",
    "test_data = pd.read_csv('data/transformed/DADO_TESTE_UBE_48_12_univariate.csv',\n",
    "                   header=0, names=['index','value', 'date'], parse_dates=True, index_col='index', date_parser=dt_parse)\n",
    "\n",
    "data = pd.concat([train_data, test_data], axis=0)\n",
    "\n",
    "data['value'] = data['value'].astype(float)\n",
    "data['date'] = data['date'].astype('datetime64')\n",
    "data = data[data['value'] > 0.0]\n",
    "\n",
    "data = data['1/1/2015 12:00:00 AM':]\n",
    "\n",
    "data"
   ]
  },
  {
   "cell_type": "markdown",
   "metadata": {},
   "source": [
    "# 2. ARIMA"
   ]
  },
  {
   "cell_type": "markdown",
   "metadata": {},
   "source": [
    "## 2.1 Tratando os dados internos"
   ]
  },
  {
   "cell_type": "code",
   "execution_count": 3,
   "metadata": {
    "pycharm": {
     "name": "#%%\n"
    }
   },
   "outputs": [
    {
     "data": {
      "text/plain": [
       "index\n",
       "2015-01-01    481.0\n",
       "2015-01-02    481.0\n",
       "2015-01-03    473.0\n",
       "2015-01-04    472.0\n",
       "2015-01-05    461.0\n",
       "              ...  \n",
       "2019-12-17    281.0\n",
       "2019-12-18    299.0\n",
       "2019-12-19    312.0\n",
       "2019-12-20    311.0\n",
       "2019-12-21    295.0\n",
       "Name: value, Length: 1817, dtype: float64"
      ]
     },
     "execution_count": 3,
     "metadata": {},
     "output_type": "execute_result"
    }
   ],
   "source": [
    "split_date = '1/1/2019 12:00:00 AM'\n",
    "test  = data[split_date : ]\n",
    "train = data[ : split_date]\n",
    "\n",
    "train = train['value']\n",
    "test = test['value']\n",
    "series = pd.concat([train, test], axis=0)\n",
    "\n",
    "series"
   ]
  },
  {
   "cell_type": "markdown",
   "metadata": {},
   "source": [
    "## 2.2 Métodos para treinamento"
   ]
  },
  {
   "cell_type": "code",
   "execution_count": 4,
   "metadata": {
    "pycharm": {
     "name": "#%%\n"
    }
   },
   "outputs": [],
   "source": [
    "# Mostrar previsão de acordo com os dados originais\n",
    "def plot_forecasts(series, forecasts, test):\n",
    "    plt.plot(series) # blue\n",
    "\n",
    "    # Colocando no gráfico as previsões com a cor vermelha\n",
    "    for i in range(len(forecasts)):\n",
    "        # Inicio e fim dos dos deslocamentos por x\n",
    "        off_s = len(series) - len(test) + i - 1\n",
    "        off_e = off_s + len(forecasts[i]) + 1\n",
    "        xaxis = [x for x in range(off_s, off_e)]\n",
    "\n",
    "        # Valores dos multiplos passos de previsão\n",
    "        yaxis = [series[off_s]] + forecasts[i]\n",
    "        plt.plot(xaxis, yaxis, color='red')\n",
    "\n",
    "    # Gráfico\n",
    "    plt.show()\n",
    "\n",
    "# Salvar predições, excedentes e erros\n",
    "def save_results_file(test, forecasts, n_steps):\n",
    "    predictions = {}\n",
    "    expected = {}\n",
    "    erros = {}\n",
    "    for i in range(n_steps):\n",
    "        # Pegando os valores de multiplos passos de previsão\n",
    "        ypred_ts = [forecast[i] for forecast in forecasts]\n",
    "        # Salvando previsão\n",
    "        predictions['t+' + str(i+1)] = ypred_ts\n",
    "        ytrue_ts = test[i:len(ypred_ts)+i]\n",
    "        ytrue_ts_lst = [i for i in ytrue_ts]\n",
    "\n",
    "        # Salvando excedente\n",
    "        expected['t+' + str(i+1)] = ytrue_ts_lst\n",
    "\n",
    "        # Calculando e salvando erro\n",
    "        erro = sqrt(mean_squared_error(ytrue_ts, ypred_ts))\n",
    "        erros['t+' + str(i+1)] = erro\n",
    "\n",
    "    with open('data/retrain/daily_flow_predictions_arima.txt', 'w') as output:\n",
    "        for k, v in predictions.items():\n",
    "            output.write(str(k)+'\\n')\n",
    "            output.write(str(v)+'\\n')\n",
    "\n",
    "    with open('data/retrain/daily_flow_expected_arima.txt', 'w') as output:\n",
    "        for k, v in expected.items():\n",
    "            output.write(str(k)+'\\n')\n",
    "            output.write(str(v)+'\\n')\n",
    "\n",
    "    with open('data/retrain/daily_flow_errors_arima.txt', 'w') as output:\n",
    "        for k, v in erros.items():\n",
    "            output.write(str(k)+'\\n')\n",
    "            output.write(str(v)+'\\n')\n",
    "\n",
    "# Avaliação de erro do ARIMA\n",
    "def evaluate_forecasts(test, forecasts, n_steps):\n",
    "    sum_rmse = 0\n",
    "    sum_mape = 0\n",
    "    for i in range(n_steps):\n",
    "        ypred_ts = [forecast[i] for forecast in forecasts]\n",
    "        ytrue_ts = test[i:len(ypred_ts)+i]\n",
    "        # Calculando os erros\n",
    "        mape = mean_absolute_percentage_error(ytrue_ts, ypred_ts)*100\n",
    "        rmse = sqrt(mean_squared_error(ytrue_ts, ypred_ts))\n",
    "        sum_rmse += rmse\n",
    "        sum_mape += mape\n",
    "        print(f\"t+{(i+1)} RMSE: {rmse} | MAPE: {mape}\")\n",
    "\n",
    "    # média dos erros\n",
    "    print(f\"Média do RMSE: {sum_rmse/n_steps}\")\n",
    "    print(f\"Média do MAPE: {sum_mape/n_steps}\")\n",
    "\n",
    "# Treinamento de previsão por ARIMA por multiplos passos\n",
    "def arima_forecast(train, config, n_steps):\n",
    "    p, d, q = config\n",
    "    # Definindo e moldando o modelo\n",
    "    model = ARIMA(train, order=(p,d,q), trend=None, trend_offset=1)\n",
    "    model_fit = model.fit()\n",
    "\n",
    "    # Fazendo previsão com multiplos passos\n",
    "    yhat = model_fit.predict(len(train), len(train)+n_steps-1)\n",
    "    yhat_list = [value for value in yhat]\n",
    "\n",
    "    return yhat_list"
   ]
  },
  {
   "cell_type": "markdown",
   "metadata": {},
   "source": [
    "## 2.3 Treinamento e resultado"
   ]
  },
  {
   "cell_type": "code",
   "execution_count": 5,
   "metadata": {
    "pycharm": {
     "name": "#%%\n"
    }
   },
   "outputs": [
    {
     "name": "stdout",
     "output_type": "stream",
     "text": [
      "t+1 RMSE: 17.99117139908514 | MAPE: 2.9040278980494483\n",
      "t+2 RMSE: 36.66434393121843 | MAPE: 5.662143644987919\n",
      "t+3 RMSE: 54.824299131520206 | MAPE: 8.22322033823041\n",
      "t+4 RMSE: 70.87139107953335 | MAPE: 10.333902827403733\n",
      "t+5 RMSE: 84.81498252460067 | MAPE: 12.293577534043742\n",
      "t+6 RMSE: 96.4349824223057 | MAPE: 14.018270684481383\n",
      "t+7 RMSE: 105.9328302921024 | MAPE: 15.635106788433987\n",
      "Média do RMSE: 66.79057154005227\n",
      "Média do MAPE: 9.867178530804376\n"
     ]
    },
    {
     "data": {
      "image/png": "[encoded data removed]",
      "text/plain": [
       "<Figure size 432x288 with 1 Axes>"
      ]
     },
     "metadata": {},
     "output_type": "display_data"
    }
   ],
   "source": [
    "test = test.values\n",
    "series = series.values\n",
    "train = [x for x in train]\n",
    "\n",
    "n_steps = 7\n",
    "\n",
    "# configurações da previsão ARIMA\n",
    "p_param = 1\n",
    "d_param = 1\n",
    "q_param = 1  # 1, 0\n",
    "config = [p_param, d_param, q_param]\n",
    "\n",
    "# lista para armazenar os paços de predição e a quantidade de predições a frente\n",
    "forecasts = list()\n",
    "n_forecasts = len(test) - n_steps + 1\n",
    "\n",
    "for i in range(n_forecasts):\n",
    "    try:\n",
    "        yhat = arima_forecast(train, config, n_steps)\n",
    "    except:\n",
    "        continue\n",
    "    # adicionando valor de predição a lista\n",
    "    forecasts.append(yhat)\n",
    "    # Adicionando valor de previsão pelo treino para o proximo loop\n",
    "    obs = test[i]\n",
    "    train.append(obs)\n",
    "\n",
    "# Salvar predições, excedentes e erros\n",
    "save_results_file(test, forecasts, n_steps)\n",
    "# Avaliação da previsão\n",
    "evaluate_forecasts(test, forecasts, n_steps)\n",
    "# Mostrar previsão\n",
    "plot_forecasts(series, forecasts, test)"
   ]
  },
  {
   "cell_type": "code",
   "execution_count": null,
   "metadata": {},
   "outputs": [],
   "source": []
  }
 ],
 "metadata": {
  "kernelspec": {
   "display_name": "Python 3",
   "language": "python",
   "name": "python3"
  },
  "language_info": {
   "codemirror_mode": {
    "name": "ipython",
    "version": 3
   },
   "file_extension": ".py",
   "mimetype": "text/x-python",
   "name": "python",
   "nbconvert_exporter": "python",
   "pygments_lexer": "ipython3",
   "version": "3.7.9"
  }
 },
 "nbformat": 4,
 "nbformat_minor": 1
}
