{
 "cells": [
  {
   "cell_type": "markdown",
   "source": [
    "# Importando bibliotecas"
   ],
   "metadata": {
    "collapsed": false
   }
  },
  {
   "cell_type": "code",
   "execution_count": 5,
   "outputs": [],
   "source": [
    "import numpy as np\n",
    "import pandas as pd\n",
    "from datetime import datetime as dt\n",
    "import statsmodels.api as sm\n",
    "from statsmodels.tsa.statespace.sarimax import SARIMAX\n",
    "from math import sqrt\n",
    "from sklearn.metrics import mean_squared_error, mean_absolute_error, mean_absolute_percentage_error\n",
    "from arch.unitroot import PhillipsPerron as pp\n",
    "import matplotlib.pyplot as plt\n",
    "import seaborn as sns\n",
    "from scipy import stats\n",
    "import warnings\n",
    "warnings.simplefilter('ignore')\n",
    "%matplotlib inline\n",
    "sns.set_style(\"whitegrid\")\n",
    "plt.rc('xtick', labelsize=15)\n",
    "plt.rc('ytick', labelsize=15)"
   ],
   "metadata": {
    "collapsed": false,
    "pycharm": {
     "name": "#%%\n"
    }
   }
  },
  {
   "cell_type": "markdown",
   "source": [
    "# 1. Importando base de dados formatada"
   ],
   "metadata": {
    "collapsed": false
   }
  },
  {
   "cell_type": "markdown",
   "source": [
    "## 1.1 Tratando os dados internos"
   ],
   "metadata": {
    "collapsed": false,
    "pycharm": {
     "name": "#%% md\n"
    }
   }
  },
  {
   "cell_type": "code",
   "execution_count": 6,
   "outputs": [
    {
     "data": {
      "text/plain": "             value       date\nindex                        \n2000-01-01  6205.0 2000-01-01\n2000-01-02  6797.0 2000-01-02\n2000-01-03  7024.0 2000-01-03\n2000-01-04  6921.0 2000-01-04\n2000-01-05  7025.0 2000-01-05",
      "text/html": "<div>\n<style scoped>\n    .dataframe tbody tr th:only-of-type {\n        vertical-align: middle;\n    }\n\n    .dataframe tbody tr th {\n        vertical-align: top;\n    }\n\n    .dataframe thead th {\n        text-align: right;\n    }\n</style>\n<table border=\"1\" class=\"dataframe\">\n  <thead>\n    <tr style=\"text-align: right;\">\n      <th></th>\n      <th>value</th>\n      <th>date</th>\n    </tr>\n    <tr>\n      <th>index</th>\n      <th></th>\n      <th></th>\n    </tr>\n  </thead>\n  <tbody>\n    <tr>\n      <th>2000-01-01</th>\n      <td>6205.0</td>\n      <td>2000-01-01</td>\n    </tr>\n    <tr>\n      <th>2000-01-02</th>\n      <td>6797.0</td>\n      <td>2000-01-02</td>\n    </tr>\n    <tr>\n      <th>2000-01-03</th>\n      <td>7024.0</td>\n      <td>2000-01-03</td>\n    </tr>\n    <tr>\n      <th>2000-01-04</th>\n      <td>6921.0</td>\n      <td>2000-01-04</td>\n    </tr>\n    <tr>\n      <th>2000-01-05</th>\n      <td>7025.0</td>\n      <td>2000-01-05</td>\n    </tr>\n  </tbody>\n</table>\n</div>"
     },
     "execution_count": 6,
     "metadata": {},
     "output_type": "execute_result"
    }
   ],
   "source": [
    "dt_parse = lambda dates: dt.strptime(dates, '%Y-%m-%d')\n",
    "\n",
    "data = pd.read_csv('data/transformed/2000_2021_Brazilian_Northeast_Region_daily_MW_instantaneous_maximum_demand_series.csv',\n",
    "                   header=0, names=['index','value', 'date'], parse_dates=True, index_col='index', date_parser=dt_parse)\n",
    "data['value'] = data['value'].astype(float)\n",
    "data['date'] = data['date'].astype('datetime64')\n",
    "data = data[data['value'] > 0.0]\n",
    "data.head()"
   ],
   "metadata": {
    "collapsed": false,
    "pycharm": {
     "name": "#%%\n"
    }
   }
  },
  {
   "cell_type": "markdown",
   "source": [
    "# 2. SARIMA"
   ],
   "metadata": {
    "collapsed": false
   }
  },
  {
   "cell_type": "markdown",
   "source": [
    "## 2.1 Tratando os dados internos"
   ],
   "metadata": {
    "collapsed": false
   }
  },
  {
   "cell_type": "code",
   "execution_count": 7,
   "outputs": [
    {
     "data": {
      "text/plain": "index\n2000-01-01     6205.000\n2000-01-02     6797.000\n2000-01-03     7024.000\n2000-01-04     6921.000\n2000-01-05     7025.000\n                ...    \n2021-01-27    12308.892\n2021-01-28    12550.095\n2021-01-29    12413.574\n2021-01-30    11988.032\n2021-01-31    11540.266\nName: value, Length: 7702, dtype: float64"
     },
     "execution_count": 7,
     "metadata": {},
     "output_type": "execute_result"
    }
   ],
   "source": [
    "split_date = '1/1/2018 12:00:00 AM'\n",
    "test  = data[split_date : ]\n",
    "train = data[ : split_date]\n",
    "\n",
    "train = train['value']\n",
    "test = test['value']\n",
    "series = pd.concat([train, test], axis=0)\n",
    "\n",
    "series"
   ],
   "metadata": {
    "collapsed": false,
    "pycharm": {
     "name": "#%%\n"
    }
   }
  },
  {
   "cell_type": "markdown",
   "source": [
    "## 2.2 Métodos para treinamento"
   ],
   "metadata": {
    "collapsed": false
   }
  },
  {
   "cell_type": "code",
   "execution_count": 8,
   "outputs": [],
   "source": [
    "# Mostrar previsão de acordo com os dados originais\n",
    "def plot_forecasts(series, forecasts, test):\n",
    "\tplt.plot(series) # blue\n",
    "\n",
    "\t# Colocando no gráfico as previsões com a cor vermelha\n",
    "\tfor i in range(len(forecasts)):\n",
    "        # Inicio e fim dos dos deslocamentos por x\n",
    "\t\toff_s = len(series) - len(test) + i - 1\n",
    "\t\toff_e = off_s + len(forecasts[i]) + 1\n",
    "\t\txaxis = [x for x in range(off_s, off_e)]\n",
    "\n",
    "        # Valores dos multiplos passos de previsão\n",
    "\t\tyaxis = [series[off_s]] + forecasts[i]\n",
    "\t\tplt.plot(xaxis, yaxis, color='red')\n",
    "\n",
    "\t# Gráfico\n",
    "\tplt.show()\n",
    "\n",
    "# Avaliação de erro do SARIMA\n",
    "def evaluate_forecasts(test, forecasts, n_steps):\n",
    "    sum_rmse = 0\n",
    "    sum_mape = 0\n",
    "    for i in range(n_steps):\n",
    "        ypred_ts = [forecast[i] for forecast in forecasts]\n",
    "        ytrue_ts = test[i:len(ypred_ts)+i]\n",
    "        # Calculando os erros\n",
    "        mape = mean_absolute_percentage_error(ytrue_ts, ypred_ts)*100\n",
    "        rmse = sqrt(mean_squared_error(ytrue_ts, ypred_ts))\n",
    "        sum_rmse += rmse\n",
    "        sum_mape += mape\n",
    "        print(f\"t+{(i+1)} RMSE: {rmse} | MAPE: {mape}\")\n",
    "\n",
    "    # média dos erros\n",
    "    print(f\"Média do RMSE: {sum_rmse/n_steps}\")\n",
    "    print(f\"Média do MAPE: {sum_mape/n_steps}\")\n",
    "\n",
    "# Treinamento de previsão por ARIMA por multiplos passos\n",
    "def sarima_forecast(train, config, n_steps):\n",
    "\torder, s_order, trend = config\n",
    "\t# Definindo e moldando o modelo\n",
    "\tmodel = model = SARIMAX(train, order=order, seasonal_order=s_order, trend=trend, enforce_stationarity=False,\n",
    "                            enforce_invertibility=False)\n",
    "\tmodel_fit = model.fit()\n",
    "\n",
    "\t# Fazendo previsão com multiplos passos\n",
    "\tyhat = model_fit.predict(len(train), len(train)+n_steps-1)\n",
    "\tyhat_list = [value for value in yhat]\n",
    "\n",
    "\treturn yhat_list"
   ],
   "metadata": {
    "collapsed": false,
    "pycharm": {
     "name": "#%%\n"
    }
   }
  },
  {
   "cell_type": "markdown",
   "source": [
    "## 2.3 Treinamento e resultado"
   ],
   "metadata": {
    "collapsed": false
   }
  },
  {
   "cell_type": "code",
   "execution_count": null,
   "outputs": [],
   "source": [
    "test = test.values\n",
    "series = series.values\n",
    "train = [x for x in train]\n",
    "\n",
    "n_steps = 7\n",
    "\n",
    "# Ordem de tendencial\n",
    "p_param = 4\n",
    "d_param = 1\n",
    "q_param = 13\n",
    "# Periodo e ordem sazonal\n",
    "P_param = 4\n",
    "D_param = 1\n",
    "Q_param = 2\n",
    "m_param = 12\n",
    "# Tipo de tendencia\n",
    "t_params = 'ct'  # outros tipos: 'n','c','t','ct'\n",
    "# configuração\n",
    "config = [(p_param,d_param,q_param), (P_param,D_param,Q_param,m_param), t_params]\n",
    "\n",
    "# lista para armazenar os paços de predição e a quantidade de predições a frente\n",
    "forecasts = list()\n",
    "n_forecasts = len(test) - n_steps + 1\n",
    "\n",
    "for i in range(n_forecasts):\n",
    "    # prevendo valor por sarima\n",
    "\tyhat = sarima_forecast(train, config, n_steps)\n",
    "    # adicionando valor de predição a lista\n",
    "\tforecasts.append(yhat)\n",
    "\t# Adicionando valor de previsão pelo treino para o proximo loop\n",
    "\tobs = test[i]\n",
    "\ttrain.append(obs)\n",
    "\n",
    "# Avaliação da previsão\n",
    "evaluate_forecasts(test, forecasts, n_steps)\n",
    "# Mostrar previsão\n",
    "plot_forecasts(series, forecasts, test)"
   ],
   "metadata": {
    "collapsed": false,
    "pycharm": {
     "name": "#%%\n",
     "is_executing": true
    }
   }
  }
 ],
 "metadata": {
  "kernelspec": {
   "display_name": "Python 3",
   "language": "python",
   "name": "python3"
  },
  "language_info": {
   "codemirror_mode": {
    "name": "ipython",
    "version": 2
   },
   "file_extension": ".py",
   "mimetype": "text/x-python",
   "name": "python",
   "nbconvert_exporter": "python",
   "pygments_lexer": "ipython2",
   "version": "2.7.6"
  }
 },
 "nbformat": 4,
 "nbformat_minor": 0
}