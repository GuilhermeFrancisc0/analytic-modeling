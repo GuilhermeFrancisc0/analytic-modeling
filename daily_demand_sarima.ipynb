{
 "cells": [
  {
   "cell_type": "markdown",
   "source": [
    "# Importando bibliotecas"
   ],
   "metadata": {
    "collapsed": false
   }
  },
  {
   "cell_type": "code",
   "execution_count": 31,
   "outputs": [],
   "source": [
    "import numpy as np\n",
    "import pandas as pd\n",
    "from datetime import datetime as dt\n",
    "from sys import stdout\n",
    "from statsmodels.tsa.statespace.sarimax import SARIMAX\n",
    "from math import sqrt\n",
    "from sklearn.metrics import mean_squared_error, mean_absolute_error, mean_absolute_percentage_error\n",
    "from arch.unitroot import PhillipsPerron as pp\n",
    "import matplotlib.pyplot as plt\n",
    "import seaborn as sns\n",
    "from scipy import stats\n",
    "import warnings\n",
    "warnings.simplefilter('ignore')\n",
    "%matplotlib inline\n",
    "sns.set_style(\"whitegrid\")\n",
    "plt.rc('xtick', labelsize=15)\n",
    "plt.rc('ytick', labelsize=15)"
   ],
   "metadata": {
    "collapsed": false,
    "pycharm": {
     "name": "#%%\n"
    }
   }
  },
  {
   "cell_type": "markdown",
   "source": [
    "# 1. Importando base de dados formatada"
   ],
   "metadata": {
    "collapsed": false
   }
  },
  {
   "cell_type": "markdown",
   "source": [
    "## 1.1 Tratando os dados internos"
   ],
   "metadata": {
    "collapsed": false,
    "pycharm": {
     "name": "#%% md\n"
    }
   }
  },
  {
   "cell_type": "code",
   "execution_count": 32,
   "outputs": [
    {
     "data": {
      "text/plain": "             value       date\nindex                        \n2000-01-01  6205.0 2000-01-01\n2000-01-02  6797.0 2000-01-02\n2000-01-03  7024.0 2000-01-03\n2000-01-04  6921.0 2000-01-04\n2000-01-05  7025.0 2000-01-05",
      "text/html": "<div>\n<style scoped>\n    .dataframe tbody tr th:only-of-type {\n        vertical-align: middle;\n    }\n\n    .dataframe tbody tr th {\n        vertical-align: top;\n    }\n\n    .dataframe thead th {\n        text-align: right;\n    }\n</style>\n<table border=\"1\" class=\"dataframe\">\n  <thead>\n    <tr style=\"text-align: right;\">\n      <th></th>\n      <th>value</th>\n      <th>date</th>\n    </tr>\n    <tr>\n      <th>index</th>\n      <th></th>\n      <th></th>\n    </tr>\n  </thead>\n  <tbody>\n    <tr>\n      <th>2000-01-01</th>\n      <td>6205.0</td>\n      <td>2000-01-01</td>\n    </tr>\n    <tr>\n      <th>2000-01-02</th>\n      <td>6797.0</td>\n      <td>2000-01-02</td>\n    </tr>\n    <tr>\n      <th>2000-01-03</th>\n      <td>7024.0</td>\n      <td>2000-01-03</td>\n    </tr>\n    <tr>\n      <th>2000-01-04</th>\n      <td>6921.0</td>\n      <td>2000-01-04</td>\n    </tr>\n    <tr>\n      <th>2000-01-05</th>\n      <td>7025.0</td>\n      <td>2000-01-05</td>\n    </tr>\n  </tbody>\n</table>\n</div>"
     },
     "execution_count": 32,
     "metadata": {},
     "output_type": "execute_result"
    }
   ],
   "source": [
    "dt_parse = lambda dates: dt.strptime(dates, '%Y-%m-%d')\n",
    "\n",
    "data = pd.read_csv('data/transformed/2000_2021_Brazilian_Northeast_Region_daily_MW_instantaneous_maximum_demand_series.csv',\n",
    "                   header=0, names=['index','value', 'date'], parse_dates=True, index_col='index', date_parser=dt_parse)\n",
    "data['value'] = data['value'].astype(float)\n",
    "data['date'] = data['date'].astype('datetime64')\n",
    "data = data[data['value'] > 0.0]\n",
    "data.head()"
   ],
   "metadata": {
    "collapsed": false,
    "pycharm": {
     "name": "#%%\n"
    }
   }
  },
  {
   "cell_type": "markdown",
   "source": [
    "# 2. SARIMA"
   ],
   "metadata": {
    "collapsed": false
   }
  },
  {
   "cell_type": "markdown",
   "source": [
    "## 2.1 Tratando os dados internos"
   ],
   "metadata": {
    "collapsed": false
   }
  },
  {
   "cell_type": "code",
   "execution_count": 33,
   "outputs": [
    {
     "data": {
      "text/plain": "index\n2000-01-01     6205.000\n2000-01-02     6797.000\n2000-01-03     7024.000\n2000-01-04     6921.000\n2000-01-05     7025.000\n                ...    \n2021-01-27    12308.892\n2021-01-28    12550.095\n2021-01-29    12413.574\n2021-01-30    11988.032\n2021-01-31    11540.266\nName: value, Length: 7702, dtype: float64"
     },
     "execution_count": 33,
     "metadata": {},
     "output_type": "execute_result"
    }
   ],
   "source": [
    "split_date = '1/1/2020 12:00:00 AM'\n",
    "test  = data[split_date : ]\n",
    "train = data[ : split_date]\n",
    "\n",
    "train = train['value']\n",
    "test = test['value']\n",
    "series = pd.concat([train, test], axis=0)\n",
    "\n",
    "series"
   ],
   "metadata": {
    "collapsed": false,
    "pycharm": {
     "name": "#%%\n"
    }
   }
  },
  {
   "cell_type": "markdown",
   "source": [
    "## 2.2 Métodos para treinamento"
   ],
   "metadata": {
    "collapsed": false
   }
  },
  {
   "cell_type": "code",
   "execution_count": 34,
   "outputs": [],
   "source": [
    "# Mostrar previsão de acordo com os dados originais\n",
    "def plot_forecasts(series, forecasts, test):\n",
    "\tplt.plot(series) # blue\n",
    "\n",
    "\t# Colocando no gráfico as previsões com a cor vermelha\n",
    "\tfor i in range(len(forecasts)):\n",
    "        # Inicio e fim dos dos deslocamentos por x\n",
    "\t\toff_s = len(series) - len(test) + i - 1\n",
    "\t\toff_e = off_s + len(forecasts[i]) + 1\n",
    "\t\txaxis = [x for x in range(off_s, off_e)]\n",
    "\n",
    "        # Valores dos multiplos passos de previsão\n",
    "\t\tyaxis = [series[off_s]] + forecasts[i]\n",
    "\t\tplt.plot(xaxis, yaxis, color='red')\n",
    "\n",
    "\t# Gráfico\n",
    "\tplt.show()\n",
    "\n",
    "# Avaliação de erro do SARIMA\n",
    "def evaluate_forecasts(test, forecasts, n_steps):\n",
    "    sum_rmse = 0\n",
    "    sum_mape = 0\n",
    "    for i in range(n_steps):\n",
    "        ypred_ts = [forecast[i] for forecast in forecasts]\n",
    "        ytrue_ts = test[i:len(ypred_ts)+i]\n",
    "        # Calculando os erros\n",
    "        mape = mean_absolute_percentage_error(ytrue_ts, ypred_ts)*100\n",
    "        rmse = sqrt(mean_squared_error(ytrue_ts, ypred_ts))\n",
    "        sum_rmse += rmse\n",
    "        sum_mape += mape\n",
    "        print(f\"t+{(i+1)} RMSE: {rmse} | MAPE: {mape}\")\n",
    "\n",
    "    # média dos erros\n",
    "    print(f\"Média do RMSE: {sum_rmse/n_steps}\")\n",
    "    print(f\"Média do MAPE: {sum_mape/n_steps}\")\n",
    "\n",
    "# Treinamento de previsão por ARIMA por multiplos passos\n",
    "def sarima_forecast(train, config, n_steps):\n",
    "\torder, s_order, trend = config\n",
    "\t# Definindo e moldando o modelo\n",
    "\tmodel = SARIMAX(train, order=order, seasonal_order=s_order, trend=trend, enforce_stationarity=False,\n",
    "                            enforce_invertibility=False)\n",
    "\tmodel_fit = model.fit()\n",
    "\n",
    "\t# Fazendo previsão com multiplos passos\n",
    "\tyhat = model_fit.predict(len(train), len(train)+n_steps-1)\n",
    "\tyhat_list = [value for value in yhat]\n",
    "\n",
    "\treturn yhat_list"
   ],
   "metadata": {
    "collapsed": false,
    "pycharm": {
     "name": "#%%\n"
    }
   }
  },
  {
   "cell_type": "markdown",
   "source": [
    "## 2.3 Treinamento e resultado"
   ],
   "metadata": {
    "collapsed": false
   }
  },
  {
   "cell_type": "code",
   "execution_count": 35,
   "outputs": [
    {
     "name": "stdout",
     "output_type": "stream",
     "text": [
      "\tt=(390 de 391) -> Predito=11575.650562, Esperado=12271.288000Ultimos 10 valores:\n",
      "Predito=[12058.810039635619, 12127.975741347384, 12216.157744910657, 12122.295596451537, 12066.207933451538, 12072.55452309382, 12014.02191889316], Esperado=12115.408\n",
      "Predito=[12167.009393019627, 12253.48721210587, 12150.284636427894, 12087.152099665554, 12092.215511046654, 12030.480750327335, 12149.378178055364], Esperado=11904.916\n",
      "Predito=[12040.173446602019, 11925.001855514558, 11872.57213469212, 11908.357945958296, 11847.461771522903, 11971.600478053855, 11930.282275018573], Esperado=12622.064\n",
      "Predito=[12437.995082006035, 12435.963193276382, 12478.059502397091, 12392.12612844621, 12539.020182842523, 12512.624996305649, 12516.37866399441], Esperado=12365.629\n",
      "Predito=[12390.16984643786, 12438.917907966063, 12369.801269562646, 12538.28138262699, 12523.774034341028, 12538.275638700388, 12465.226666825896], Esperado=12258.734\n",
      "Predito=[12317.320569246436, 12226.050736388928, 12385.810797233386, 12369.658164946533, 12372.98563792009, 12289.470086082063, 12274.09635452772], Esperado=12175.406\n",
      "Predito=[12114.209272213466, 12272.029940884944, 12266.29653331111, 12291.414854062585, 12210.616215993354, 12200.753338527102, 12235.591769776745], Esperado=12367.506\n",
      "Predito=[12471.647311354298, 12465.663949837248, 12470.123699331994, 12356.449325513508, 12336.479238080212, 12356.463577702409, 12349.85952066128], Esperado=11874.637\n",
      "Predito=[11940.518955049678, 11896.869205162468, 11780.67439591905, 11788.827415352194, 11789.886902038941, 11770.885420105007, 11787.87259727404], Esperado=11568.613\n",
      "Predito=[11575.65056216983, 11441.990322965057, 11458.881932452234, 11486.62963453993, 11461.332523773804, 11481.016199185742, 11558.780292267262], Esperado=12271.288\n",
      "t+1 RMSE: 386.952612267253 | MAPE: 2.625182760562029\n",
      "t+2 RMSE: 500.94290281682095 | MAPE: 3.3507072418937636\n",
      "t+3 RMSE: 546.4475414710965 | MAPE: 3.6224865465120644\n",
      "t+4 RMSE: 548.7364356398037 | MAPE: 3.6224455399670443\n",
      "t+5 RMSE: 546.3700827084684 | MAPE: 3.644504953742847\n",
      "t+6 RMSE: 516.0460636638916 | MAPE: 3.4513891531967733\n",
      "t+7 RMSE: 463.19398546567015 | MAPE: 3.032704057542348\n",
      "Média do RMSE: 501.24137486185776\n",
      "Média do MAPE: 3.335631464773838\n"
     ]
    },
    {
     "data": {
      "text/plain": "<Figure size 432x288 with 1 Axes>",
      "image/png": "[encoded data removed]"
     },
     "metadata": {},
     "output_type": "display_data"
    }
   ],
   "source": [
    "test = test.values\n",
    "series = series.values\n",
    "train = [x for x in train]\n",
    "\n",
    "n_steps = 7\n",
    "\n",
    "# Ordem de tendencial\n",
    "p_param = 1\n",
    "d_param = 1\n",
    "q_param = 1\n",
    "# Periodo e ordem sazonal\n",
    "P_param = 2\n",
    "D_param = 1\n",
    "Q_param = 2\n",
    "m_param = 4\n",
    "# Tipo de tendencia\n",
    "t_params = 'ct'  # outros tipos: 'n','c','t','ct'\n",
    "# configuração\n",
    "config = [(p_param,d_param,q_param), (P_param,D_param,Q_param,m_param), t_params]\n",
    "\n",
    "# lista para armazenar os paços de predição e a quantidade de predições a frente\n",
    "forecasts = list()\n",
    "forecasts_exp = list()\n",
    "n_forecasts = len(test) - n_steps + 1\n",
    "\n",
    "for i in range(n_forecasts):\n",
    "    # prevendo valor por sarima\n",
    "    yhat = sarima_forecast(train, config, n_steps)\n",
    "    # adicionando valor de predição a lista\n",
    "    forecasts.append(yhat)\n",
    "    # Adicionando valor de previsão pelo treino para o proximo loop\n",
    "    obs = test[i]\n",
    "    train.append(obs)\n",
    "    forecasts_exp.append([yhat, obs])\n",
    "    stdout.write(\"\\r\\tt=(%i de %i) -> Predito=%f, Esperado=%f\" % (i, n_forecasts, yhat[0], obs))\n",
    "\n",
    "print(\"Ultimos 10 valores:\")\n",
    "for item in forecasts_exp[-10:]:\n",
    "    print(f\"Predito={item[0]}, Esperado={item[1]}\")\n",
    "\n",
    "# Avaliação da previsão\n",
    "evaluate_forecasts(test, forecasts, n_steps)\n",
    "# Mostrar previsão\n",
    "plot_forecasts(series, forecasts, test)"
   ],
   "metadata": {
    "collapsed": false,
    "pycharm": {
     "name": "#%%\n"
    }
   }
  }
 ],
 "metadata": {
  "kernelspec": {
   "display_name": "Python 3",
   "language": "python",
   "name": "python3"
  },
  "language_info": {
   "codemirror_mode": {
    "name": "ipython",
    "version": 2
   },
   "file_extension": ".py",
   "mimetype": "text/x-python",
   "name": "python",
   "nbconvert_exporter": "python",
   "pygments_lexer": "ipython2",
   "version": "2.7.6"
  }
 },
 "nbformat": 4,
 "nbformat_minor": 0
}