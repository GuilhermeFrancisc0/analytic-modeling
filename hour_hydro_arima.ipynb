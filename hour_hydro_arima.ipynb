{
 "cells": [
  {
   "cell_type": "markdown",
   "metadata": {},
   "source": [
    "# Importando bibliotecas"
   ]
  },
  {
   "cell_type": "code",
   "execution_count": 1,
   "metadata": {
    "pycharm": {
     "name": "#%%\n"
    }
   },
   "outputs": [],
   "source": [
    "import numpy as np\n",
    "import pandas as pd\n",
    "from datetime import datetime as dt\n",
    "from sys import stdout\n",
    "from statsmodels.tsa.arima.model import ARIMA\n",
    "from math import sqrt\n",
    "from sklearn.metrics import mean_squared_error, mean_absolute_error, mean_absolute_percentage_error\n",
    "from arch.unitroot import PhillipsPerron as pp\n",
    "import matplotlib.pyplot as plt\n",
    "import seaborn as sns\n",
    "from scipy import stats\n",
    "import warnings\n",
    "warnings.simplefilter('ignore')\n",
    "%matplotlib inline\n",
    "sns.set_style(\"whitegrid\")\n",
    "plt.rc('xtick', labelsize=15)\n",
    "plt.rc('ytick', labelsize=15)"
   ]
  },
  {
   "cell_type": "markdown",
   "metadata": {},
   "source": [
    "# 1. Importando base de dados formatada"
   ]
  },
  {
   "cell_type": "markdown",
   "metadata": {
    "pycharm": {
     "name": "#%% md\n"
    }
   },
   "source": [
    "## 1.1 Tratando os dados internos"
   ]
  },
  {
   "cell_type": "code",
   "execution_count": 2,
   "metadata": {
    "pycharm": {
     "name": "#%%\n"
    }
   },
   "outputs": [
    {
     "data": {
      "text/html": [
       "<div>\n",
       "<style scoped>\n",
       "    .dataframe tbody tr th:only-of-type {\n",
       "        vertical-align: middle;\n",
       "    }\n",
       "\n",
       "    .dataframe tbody tr th {\n",
       "        vertical-align: top;\n",
       "    }\n",
       "\n",
       "    .dataframe thead th {\n",
       "        text-align: right;\n",
       "    }\n",
       "</style>\n",
       "<table border=\"1\" class=\"dataframe\">\n",
       "  <thead>\n",
       "    <tr style=\"text-align: right;\">\n",
       "      <th></th>\n",
       "      <th>value</th>\n",
       "      <th>date</th>\n",
       "    </tr>\n",
       "    <tr>\n",
       "      <th>index</th>\n",
       "      <th></th>\n",
       "      <th></th>\n",
       "    </tr>\n",
       "  </thead>\n",
       "  <tbody>\n",
       "    <tr>\n",
       "      <th>2000-01-01 00:00:00</th>\n",
       "      <td>2422.5</td>\n",
       "      <td>2000-01-01 00:00:00</td>\n",
       "    </tr>\n",
       "    <tr>\n",
       "      <th>2000-01-01 01:00:00</th>\n",
       "      <td>2769.3</td>\n",
       "      <td>2000-01-01 01:00:00</td>\n",
       "    </tr>\n",
       "    <tr>\n",
       "      <th>2000-01-01 02:00:00</th>\n",
       "      <td>3124.7</td>\n",
       "      <td>2000-01-01 02:00:00</td>\n",
       "    </tr>\n",
       "    <tr>\n",
       "      <th>2000-01-01 03:00:00</th>\n",
       "      <td>3154.6</td>\n",
       "      <td>2000-01-01 03:00:00</td>\n",
       "    </tr>\n",
       "    <tr>\n",
       "      <th>2000-01-01 04:00:00</th>\n",
       "      <td>3121.8</td>\n",
       "      <td>2000-01-01 04:00:00</td>\n",
       "    </tr>\n",
       "  </tbody>\n",
       "</table>\n",
       "</div>"
      ],
      "text/plain": [
       "                      value                date\n",
       "index                                          \n",
       "2000-01-01 00:00:00  2422.5 2000-01-01 00:00:00\n",
       "2000-01-01 01:00:00  2769.3 2000-01-01 01:00:00\n",
       "2000-01-01 02:00:00  3124.7 2000-01-01 02:00:00\n",
       "2000-01-01 03:00:00  3154.6 2000-01-01 03:00:00\n",
       "2000-01-01 04:00:00  3121.8 2000-01-01 04:00:00"
      ]
     },
     "execution_count": 2,
     "metadata": {},
     "output_type": "execute_result"
    }
   ],
   "source": [
    "# conversor de data\n",
    "dt_parse = lambda dates: dt.strptime(dates, '%Y-%m-%d %H:%M:%S')\n",
    "# importação de csv com os dados e indexação deles pela data\n",
    "data = pd.read_csv('data/transformed/2000_2021_Brazilian_North_Region_hourly_MWmed_hydroelectric_power_series.csv',\n",
    "                   header=0, names=['index','value', 'date'], parse_dates=True, index_col='index', date_parser=dt_parse)\n",
    "# definição dos tipos de dados\n",
    "data['value'] = data['value'].astype(float)\n",
    "data['date'] = data['date'].astype('datetime64')\n",
    "data = data[data['value'] > 0.0]\n",
    "data.head()"
   ]
  },
  {
   "cell_type": "markdown",
   "metadata": {},
   "source": [
    "# 2. ARIMA"
   ]
  },
  {
   "cell_type": "markdown",
   "metadata": {},
   "source": [
    "## 2.1 Tratando os dados internos"
   ]
  },
  {
   "cell_type": "code",
   "execution_count": 3,
   "metadata": {
    "pycharm": {
     "name": "#%%\n"
    }
   },
   "outputs": [
    {
     "data": {
      "text/plain": [
       "index\n",
       "2020-01-07 12:00:00    7695.265\n",
       "2020-01-07 13:00:00    7914.435\n",
       "2020-01-07 14:00:00    8091.972\n",
       "2020-01-07 15:00:00    7525.924\n",
       "2020-01-07 16:00:00    7699.582\n",
       "                         ...   \n",
       "2021-01-30 20:00:00    7217.682\n",
       "2021-01-30 21:00:00    7187.145\n",
       "2021-01-30 22:00:00    6658.727\n",
       "2021-01-30 23:00:00    6529.498\n",
       "2021-01-31 00:00:00    6279.152\n",
       "Name: value, Length: 9350, dtype: float64"
      ]
     },
     "execution_count": 3,
     "metadata": {},
     "output_type": "execute_result"
    }
   ],
   "source": [
    "split_date = '1/1/2021 12:00:00 AM'\n",
    "test  = data[split_date : ]\n",
    "train = data['1/7/2020 12:00:00 PM' : split_date]\n",
    "\n",
    "train = train['value']\n",
    "test = test['value']\n",
    "series = pd.concat([train, test], axis=0)\n",
    "\n",
    "series"
   ]
  },
  {
   "cell_type": "markdown",
   "metadata": {},
   "source": [
    "## 2.2 Métodos para treinamento"
   ]
  },
  {
   "cell_type": "code",
   "execution_count": 4,
   "metadata": {
    "pycharm": {
     "name": "#%%\n"
    }
   },
   "outputs": [],
   "source": [
    "# Mostrar previsão de acordo com os dados originais\n",
    "def plot_forecasts(series, forecasts, test):\n",
    "\tplt.plot(series) # blue\n",
    "\n",
    "\t# Colocando no gráfico as previsões com a cor vermelha\n",
    "\tfor i in range(len(forecasts)):\n",
    "        # Inicio e fim dos dos deslocamentos por x\n",
    "\t\toff_s = len(series) - len(test) + i - 1\n",
    "\t\toff_e = off_s + len(forecasts[i]) + 1\n",
    "\t\txaxis = [x for x in range(off_s, off_e)]\n",
    "\n",
    "        # Valores dos multiplos passos de previsão\n",
    "\t\tyaxis = [series[off_s]] + forecasts[i]\n",
    "\t\tplt.plot(xaxis, yaxis, color='red')\n",
    "\n",
    "\t# Gráfico\n",
    "\tplt.show()\n",
    "\n",
    "# Salvar predições, excedentes e erros\n",
    "def save_results_file(test, forecasts, n_steps):\n",
    "\tpredictions = {}\n",
    "\texpected = {}\n",
    "\terros = {}\n",
    "\tfor i in range(n_steps):\n",
    "\t\t# Pegando os valores de multiplos passos de previsão\n",
    "\t\typred_ts = [forecast[i] for forecast in forecasts]\n",
    "\t\t# Salvando previsão\n",
    "\t\tpredictions['t+' + str(i+1)] = ypred_ts\n",
    "\t\tytrue_ts = test[i:len(ypred_ts)+i]\n",
    "\t\tytrue_ts_lst = [i for i in ytrue_ts]\n",
    "\n",
    "\t\t# Salvando excedente\n",
    "\t\texpected['t+' + str(i+1)] = ytrue_ts_lst\n",
    "\n",
    "\t\t# Calculando e salvando erro\n",
    "\t\terro = sqrt(mean_squared_error(ytrue_ts, ypred_ts))\n",
    "\t\terros['t+' + str(i+1)] = erro\n",
    "\n",
    "\twith open('data/retrain/hour_hydro_predictions_arima.txt', 'w') as output:\n",
    "\t\tfor k, v in predictions.items():\n",
    "\t\t\toutput.write(str(k)+'\\n')\n",
    "\t\t\toutput.write(str(v)+'\\n')\n",
    "\n",
    "\twith open('data/retrain/hour_hydro_expected_arima.txt', 'w') as output:\n",
    "\t\tfor k, v in expected.items():\n",
    "\t\t\toutput.write(str(k)+'\\n')\n",
    "\t\t\toutput.write(str(v)+'\\n')\n",
    "\n",
    "\twith open('data/retrain/hour_hydro_errors_arima.txt', 'w') as output:\n",
    "\t\tfor k, v in erros.items():\n",
    "\t\t\toutput.write(str(k)+'\\n')\n",
    "\t\t\toutput.write(str(v)+'\\n')\n",
    "\n",
    "# Avaliação de erro do ARIMA\n",
    "def evaluate_forecasts(test, forecasts, n_steps):\n",
    "    sum_rmse = 0\n",
    "    sum_mape = 0\n",
    "    for i in range(n_steps):\n",
    "        ypred_ts = [forecast[i] for forecast in forecasts]\n",
    "        ytrue_ts = test[i:len(ypred_ts)+i]\n",
    "        # Calculando os erros\n",
    "        mape = mean_absolute_percentage_error(ytrue_ts, ypred_ts)*100\n",
    "        rmse = sqrt(mean_squared_error(ytrue_ts, ypred_ts))\n",
    "        sum_rmse += rmse\n",
    "        sum_mape += mape\n",
    "        print(f\"t+{(i+1)} RMSE: {rmse} | MAPE: {mape}\")\n",
    "\n",
    "    # média dos erros\n",
    "    print(f\"Média do RMSE: {sum_rmse/n_steps}\")\n",
    "    print(f\"Média do MAPE: {sum_mape/n_steps}\")\n",
    "\n",
    "# Treinamento de previsão por ARIMA por multiplos passos\n",
    "def arima_forecast(train, config, n_steps):\n",
    "\tp, d, q = config\n",
    "\t# Definindo e moldando o modelo\n",
    "\tmodel = ARIMA(train, order=(p,d,q), trend=None, trend_offset=1)\n",
    "\tmodel_fit = model.fit()\n",
    "\n",
    "\t# Fazendo previsão com multiplos passos\n",
    "\tyhat = model_fit.predict(len(train), len(train)+n_steps-1)\n",
    "\tyhat_list = [value for value in yhat]\n",
    "\n",
    "\treturn yhat_list"
   ]
  },
  {
   "cell_type": "markdown",
   "metadata": {},
   "source": [
    "## 2.3 Treinamento e resultado"
   ]
  },
  {
   "cell_type": "code",
   "execution_count": 5,
   "metadata": {
    "pycharm": {
     "name": "#%%\n"
    }
   },
   "outputs": [
    {
     "name": "stdout",
     "output_type": "stream",
     "text": [
      "t=(697 de 698) -> Predito=5232.071979, Esperado=5425.253000Ultimos 10 valores:\n",
      "Predito=[9162.663681201759, 9140.63527008183, 9134.14477575562, 9132.232403757058, 9131.668938714633, 9131.50291826763, 9131.454001676986, 9131.439588796624, 9131.435342157241, 9131.43409091907, 9131.433722251799, 9131.43361362695, 9131.433581621512, 9131.433572191367, 9131.43356941285, 9131.433568594182, 9131.433568352968, 9131.433568281896, 9131.433568260956, 9131.433568254786, 9131.433568252969, 9131.433568252434, 9131.433568252276, 9131.433568252229], Esperado=8566.823\n",
      "Predito=[8226.731475806202, 8126.697901588333, 8097.2743045300895, 8088.619729597474, 8086.074097018426, 8085.32533173787, 8085.105092002576, 8085.040311299916, 8085.021256884364, 8085.015652271616, 8085.014003746423, 8085.0135188538125, 8085.01337622885, 8085.01333427754, 8085.013321938099, 8085.01331830861, 8085.013317241042, 8085.013316927031, 8085.013316834668, 8085.013316807501, 8085.01331679951, 8085.01331679716, 8085.013316796469, 8085.013316796265], Esperado=8271.562\n",
      "Predito=[8195.471026191046, 8173.091996262603, 8166.510125175034, 8164.574338541212, 8164.005006531844, 8163.837560940875, 8163.788313708199, 8163.773829660502, 8163.769569773676, 8163.768316903198, 8163.767948422884, 8163.767840049557, 8163.7678081760005, 8163.767798801705, 8163.767796044642, 8163.767795233765, 8163.7677949952795, 8163.767794925138, 8163.767794904509, 8163.767794898442, 8163.7677948966575, 8163.767794896133, 8163.767794895978, 8163.767794895933], Esperado=8012.252\n",
      "Predito=[7892.048652028356, 7856.6726212059875, 7846.261400737816, 7843.197362486008, 7842.295611299657, 7842.030224533808, 7841.952120799037, 7841.929134749354, 7841.922369919456, 7841.920379019577, 7841.91979309467, 7841.9196206560655, 7841.919569907118, 7841.919554971624, 7841.919550576085, 7841.919549282472, 7841.919548901759, 7841.919548789715, 7841.91954875674, 7841.919548747036, 7841.91954874418, 7841.91954874334, 7841.9195487430925, 7841.91954874302], Esperado=8290.312\n",
      "Predito=[8467.54607322995, 8519.701405897358, 8535.049350432373, 8539.56584739256, 8540.894933821353, 8541.286049048658, 8541.401143987343, 8541.435013404809, 8541.444980284783, 8541.447913275777, 8541.44877637799, 8541.449030366302, 8541.449105108391, 8541.449127103026, 8541.449133575468, 8541.449135480138, 8541.449136040632, 8541.44913620557, 8541.449136254108, 8541.449136268391, 8541.449136272595, 8541.449136273832, 8541.449136274196, 8541.449136274303], Esperado=8289.579\n",
      "Predito=[8246.756377004764, 8234.152483343649, 8230.442805507279, 8229.350943736648, 8229.029578330068, 8228.934991517594, 8228.907151977584, 8228.89895802361, 8228.896546314161, 8228.89583648073, 8228.89562755693, 8228.895566064823, 8228.895547965978, 8228.895542638982, 8228.895541071099, 8228.895540609627, 8228.895540473803, 8228.895540433827, 8228.89554042206, 8228.895540418596, 8228.895540417578, 8228.895540417278, 8228.895540417188, 8228.895540417163], Esperado=8273.642\n",
      "Predito=[8275.38709918706, 8275.900761440887, 8276.051955661229, 8276.096459013566, 8276.109558379168, 8276.113414119696, 8276.114549039925, 8276.114883098691, 8276.114981427418, 8276.115010370044, 8276.115018889179, 8276.115021396748, 8276.11502213484, 8276.115022352094, 8276.115022416043, 8276.115022434866, 8276.115022440406, 8276.115022442038, 8276.115022442518, 8276.11502244266, 8276.115022442702, 8276.115022442715, 8276.115022442718, 8276.11502244272], Esperado=7498.538\n",
      "Predito=[7084.4267207702305, 6962.437515667225, 6926.501845937722, 6915.915889927782, 6912.797471223249, 6911.87884514851, 6911.608235604011, 6911.528519245431, 6911.505036341911, 6911.498118730927, 6911.496080935997, 6911.495480640869, 6911.495303805488, 6911.4952517131915, 6911.495236367805, 6911.49523184735, 6911.49523051571, 6911.495230123435, 6911.4952300078785, 6911.495229973838, 6911.49522996381, 6911.495229960856, 6911.495229959985, 6911.495229959729], Esperado=6300.131\n",
      "Predito=[5759.182841525322, 5599.773632825871, 5552.7981594462435, 5538.955200703499, 5534.875890949562, 5533.673780304156, 5533.319536549461, 5533.215146293689, 5533.184384070345, 5533.17531891021, 5533.172647545161, 5533.1718603344425, 5533.171628355397, 5533.171559994695, 5533.171539849834, 5533.171533913449, 5533.171532164087, 5533.171531648576, 5533.171531496663, 5533.171531451897, 5533.171531438705, 5533.171531434818, 5533.171531433672, 5533.171531433334], Esperado=5519.645\n",
      "Predito=[5232.071979431573, 5147.214429292607, 5122.17451490372, 5114.785693148013, 5112.605386694496, 5111.962018050831, 5111.772171705615, 5111.716151513852, 5111.699620977636, 5111.694743118082, 5111.69330375075, 5111.692879019718, 5111.692753689342, 5111.692716706635, 5111.692705793714, 5111.692702573509, 5111.692701623286, 5111.692701342892, 5111.692701260153, 5111.692701235738, 5111.692701228534, 5111.692701226409, 5111.692701225781, 5111.692701225596], Esperado=5425.253\n",
      "t+1 RMSE: 273.35413909811325 | MAPE: 3.248482614992939\n",
      "t+2 RMSE: 488.50861686741945 | MAPE: 6.0411669513423885\n",
      "t+3 RMSE: 656.6446524418185 | MAPE: 8.300254216466522\n",
      "t+4 RMSE: 796.4679630258069 | MAPE: 10.251886401023512\n",
      "t+5 RMSE: 904.072822320805 | MAPE: 11.771927369702869\n",
      "t+6 RMSE: 989.4031386602516 | MAPE: 12.866335985761982\n",
      "t+7 RMSE: 1065.103255842913 | MAPE: 13.893539346454622\n",
      "t+8 RMSE: 1133.6854968957077 | MAPE: 14.864374388714324\n",
      "t+9 RMSE: 1193.6545473015005 | MAPE: 15.644164508545732\n",
      "t+10 RMSE: 1244.2883184320974 | MAPE: 16.30588673420175\n",
      "t+11 RMSE: 1281.4781783159071 | MAPE: 16.757471644377393\n",
      "t+12 RMSE: 1299.8256466220912 | MAPE: 17.064323382080197\n",
      "t+13 RMSE: 1310.5216255269984 | MAPE: 17.26398067667064\n",
      "t+14 RMSE: 1306.1636426265145 | MAPE: 17.25916846610827\n",
      "t+15 RMSE: 1284.8230899492364 | MAPE: 17.03025897034726\n",
      "t+16 RMSE: 1254.261650245546 | MAPE: 16.608910366045343\n",
      "t+17 RMSE: 1216.8545052202392 | MAPE: 16.096900234948137\n",
      "t+18 RMSE: 1170.3908412669937 | MAPE: 15.319793557536855\n",
      "t+19 RMSE: 1125.6609100875125 | MAPE: 14.581417564716057\n",
      "t+20 RMSE: 1076.1223871287648 | MAPE: 13.888932442926254\n",
      "t+21 RMSE: 1015.023513494327 | MAPE: 12.961927222905741\n",
      "t+22 RMSE: 945.3217665717224 | MAPE: 12.043509281048127\n",
      "t+23 RMSE: 875.3645907044338 | MAPE: 11.279905631277718\n",
      "t+24 RMSE: 823.7061405394057 | MAPE: 10.631315804548537\n",
      "Média do RMSE: 1030.4458932994223\n",
      "Média do MAPE: 13.415659740114295\n"
     ]
    },
    {
     "data": {
      "image/png": "[encoded data removed]",
      "text/plain": [
       "<Figure size 432x288 with 1 Axes>"
      ]
     },
     "metadata": {},
     "output_type": "display_data"
    }
   ],
   "source": [
    "test = test.values\n",
    "series = series.values\n",
    "train = [x for x in train]\n",
    "\n",
    "n_steps = 24\n",
    "\n",
    "# configurações da previsão ARIMA\n",
    "p_param = 1\n",
    "d_param = 1\n",
    "q_param = 1  # 1, 0\n",
    "config = [p_param, d_param, q_param]\n",
    "\n",
    "# lista para armazenar os paços de predição e a quantidade de predições a frente\n",
    "forecasts = list()\n",
    "forecasts_exp = list()\n",
    "n_forecasts = len(test) - n_steps + 1\n",
    "\n",
    "for i in range(n_forecasts):\n",
    "    yhat = arima_forecast(train, config, n_steps)\n",
    "    # adicionando valor de predição a lista\n",
    "    forecasts.append(yhat)\n",
    "    # Adicionando valor de previsão pelo treino para o proximo loop\n",
    "    obs = test[i]\n",
    "    train.append(obs)\n",
    "    forecasts_exp.append([yhat, obs])\n",
    "    stdout.write(\"\\rt=(%i de %i) -> Predito=%f, Esperado=%f\" % (i, n_forecasts, yhat[0], obs))\n",
    "\n",
    "print(\"Ultimos 10 valores:\")\n",
    "for item in forecasts_exp[-10:]:\n",
    "    print(f\"Predito={item[0]}, Esperado={item[1]}\")\n",
    "\n",
    "# Salvar predições, excedentes e erros\n",
    "save_results_file(test, forecasts, n_steps)\n",
    "# Avaliação da previsão\n",
    "evaluate_forecasts(test, forecasts, n_steps)\n",
    "# Mostrar previsão\n",
    "plot_forecasts(series, forecasts, test)"
   ]
  },
  {
   "cell_type": "code",
   "execution_count": null,
   "metadata": {},
   "outputs": [],
   "source": []
  }
 ],
 "metadata": {
  "kernelspec": {
   "display_name": "Python 3",
   "language": "python",
   "name": "python3"
  },
  "language_info": {
   "codemirror_mode": {
    "name": "ipython",
    "version": 3
   },
   "file_extension": ".py",
   "mimetype": "text/x-python",
   "name": "python",
   "nbconvert_exporter": "python",
   "pygments_lexer": "ipython3",
   "version": "3.9.1"
  }
 },
 "nbformat": 4,
 "nbformat_minor": 1
}
