{
 "cells": [
  {
   "cell_type": "markdown",
   "source": [
    "# Importando bibliotecas"
   ],
   "metadata": {
    "collapsed": false
   }
  },
  {
   "cell_type": "code",
   "execution_count": 11,
   "outputs": [],
   "source": [
    "import numpy as np\n",
    "import pandas as pd\n",
    "from datetime import datetime as dt\n",
    "from sys import stdout\n",
    "from statsmodels.tsa.arima.model import ARIMA\n",
    "from math import sqrt\n",
    "from sklearn.metrics import mean_squared_error, mean_absolute_error, mean_absolute_percentage_error\n",
    "from arch.unitroot import PhillipsPerron as pp\n",
    "import matplotlib.pyplot as plt\n",
    "import seaborn as sns\n",
    "from scipy import stats\n",
    "import warnings\n",
    "warnings.simplefilter('ignore')\n",
    "%matplotlib inline\n",
    "sns.set_style(\"whitegrid\")\n",
    "plt.rc('xtick', labelsize=15)\n",
    "plt.rc('ytick', labelsize=15)"
   ],
   "metadata": {
    "collapsed": false,
    "pycharm": {
     "name": "#%%\n"
    }
   }
  },
  {
   "cell_type": "markdown",
   "source": [
    "# 1. Importando base de dados formatada"
   ],
   "metadata": {
    "collapsed": false
   }
  },
  {
   "cell_type": "markdown",
   "source": [
    "## 1.1 Tratando os dados internos"
   ],
   "metadata": {
    "collapsed": false,
    "pycharm": {
     "name": "#%% md\n"
    }
   }
  },
  {
   "cell_type": "code",
   "execution_count": 12,
   "outputs": [
    {
     "data": {
      "text/plain": "             value       date\nindex                        \n2000-01-01  6205.0 2000-01-01\n2000-01-02  6797.0 2000-01-02\n2000-01-03  7024.0 2000-01-03\n2000-01-04  6921.0 2000-01-04\n2000-01-05  7025.0 2000-01-05",
      "text/html": "<div>\n<style scoped>\n    .dataframe tbody tr th:only-of-type {\n        vertical-align: middle;\n    }\n\n    .dataframe tbody tr th {\n        vertical-align: top;\n    }\n\n    .dataframe thead th {\n        text-align: right;\n    }\n</style>\n<table border=\"1\" class=\"dataframe\">\n  <thead>\n    <tr style=\"text-align: right;\">\n      <th></th>\n      <th>value</th>\n      <th>date</th>\n    </tr>\n    <tr>\n      <th>index</th>\n      <th></th>\n      <th></th>\n    </tr>\n  </thead>\n  <tbody>\n    <tr>\n      <th>2000-01-01</th>\n      <td>6205.0</td>\n      <td>2000-01-01</td>\n    </tr>\n    <tr>\n      <th>2000-01-02</th>\n      <td>6797.0</td>\n      <td>2000-01-02</td>\n    </tr>\n    <tr>\n      <th>2000-01-03</th>\n      <td>7024.0</td>\n      <td>2000-01-03</td>\n    </tr>\n    <tr>\n      <th>2000-01-04</th>\n      <td>6921.0</td>\n      <td>2000-01-04</td>\n    </tr>\n    <tr>\n      <th>2000-01-05</th>\n      <td>7025.0</td>\n      <td>2000-01-05</td>\n    </tr>\n  </tbody>\n</table>\n</div>"
     },
     "execution_count": 12,
     "metadata": {},
     "output_type": "execute_result"
    }
   ],
   "source": [
    "dt_parse = lambda dates: dt.strptime(dates, '%Y-%m-%d')\n",
    "\n",
    "data = pd.read_csv('data/transformed/2000_2021_Brazilian_Northeast_Region_daily_MW_instantaneous_maximum_demand_series.csv',\n",
    "                   header=0, names=['index','value', 'date'], parse_dates=True, index_col='index', date_parser=dt_parse)\n",
    "data['value'] = data['value'].astype(float)\n",
    "data['date'] = data['date'].astype('datetime64')\n",
    "data = data[data['value'] > 0.0]\n",
    "data.head()"
   ],
   "metadata": {
    "collapsed": false,
    "pycharm": {
     "name": "#%%\n"
    }
   }
  },
  {
   "cell_type": "markdown",
   "source": [
    "# 2. ARIMA"
   ],
   "metadata": {
    "collapsed": false
   }
  },
  {
   "cell_type": "markdown",
   "source": [
    "## 2.1 Tratando os dados internos"
   ],
   "metadata": {
    "collapsed": false
   }
  },
  {
   "cell_type": "code",
   "execution_count": 13,
   "outputs": [
    {
     "data": {
      "text/plain": "index\n2000-01-01     6205.000\n2000-01-02     6797.000\n2000-01-03     7024.000\n2000-01-04     6921.000\n2000-01-05     7025.000\n                ...    \n2021-01-27    12308.892\n2021-01-28    12550.095\n2021-01-29    12413.574\n2021-01-30    11988.032\n2021-01-31    11540.266\nName: value, Length: 7702, dtype: float64"
     },
     "execution_count": 13,
     "metadata": {},
     "output_type": "execute_result"
    }
   ],
   "source": [
    "split_date = '1/1/2020 12:00:00 AM'\n",
    "test  = data[split_date : ]\n",
    "train = data[ : split_date]\n",
    "\n",
    "train = train['value']\n",
    "test = test['value']\n",
    "series = pd.concat([train, test], axis=0)\n",
    "\n",
    "series"
   ],
   "metadata": {
    "collapsed": false,
    "pycharm": {
     "name": "#%%\n"
    }
   }
  },
  {
   "cell_type": "markdown",
   "source": [
    "## 2.2 Métodos para treinamento"
   ],
   "metadata": {
    "collapsed": false
   }
  },
  {
   "cell_type": "code",
   "execution_count": 14,
   "outputs": [],
   "source": [
    "# Mostrar previsão de acordo com os dados originais\n",
    "def plot_forecasts(series, forecasts, test):\n",
    "\tplt.plot(series) # blue\n",
    "\n",
    "\t# Colocando no gráfico as previsões com a cor vermelha\n",
    "\tfor i in range(len(forecasts)):\n",
    "        # Inicio e fim dos dos deslocamentos por x\n",
    "\t\toff_s = len(series) - len(test) + i - 1\n",
    "\t\toff_e = off_s + len(forecasts[i]) + 1\n",
    "\t\txaxis = [x for x in range(off_s, off_e)]\n",
    "\n",
    "        # Valores dos multiplos passos de previsão\n",
    "\t\tyaxis = [series[off_s]] + forecasts[i]\n",
    "\t\tplt.plot(xaxis, yaxis, color='red')\n",
    "\n",
    "\t# Gráfico\n",
    "\tplt.show()\n",
    "\n",
    "# Salvar predições, excedentes e erros\n",
    "def save_results_file(test, forecasts, n_steps):\n",
    "\tpredictions = {}\n",
    "\texpected = {}\n",
    "\terros = {}\n",
    "\tfor i in range(n_steps):\n",
    "\t\t# Pegando os valores de multiplos passos de previsão\n",
    "\t\typred_ts = [forecast[i] for forecast in forecasts]\n",
    "\t\t# Salvando previsão\n",
    "\t\tpredictions['t+' + str(i+1)] = ypred_ts\n",
    "\t\tytrue_ts = test[i:len(ypred_ts)+i]\n",
    "\t\tytrue_ts_lst = [i for i in ytrue_ts]\n",
    "\n",
    "\t\t# Salvando excedente\n",
    "\t\texpected['t+' + str(i+1)] = ytrue_ts_lst\n",
    "\n",
    "\t\t# Calculando e salvando erro\n",
    "\t\terro = sqrt(mean_squared_error(ytrue_ts, ypred_ts))\n",
    "\t\terros['t+' + str(i+1)] = erro\n",
    "\n",
    "\twith open('data/retrain/daily_demand_predictions_arima.txt', 'w') as output:\n",
    "\t\tfor k, v in predictions.items():\n",
    "\t\t\toutput.write(str(k)+'\\n')\n",
    "\t\t\toutput.write(str(v)+'\\n')\n",
    "\n",
    "\twith open('data/retrain/daily_demand_expected_arima.txt', 'w') as output:\n",
    "\t\tfor k, v in expected.items():\n",
    "\t\t\toutput.write(str(k)+'\\n')\n",
    "\t\t\toutput.write(str(v)+'\\n')\n",
    "\n",
    "\twith open('data/retrain/daily_demand_errors_arima.txt', 'w') as output:\n",
    "\t\tfor k, v in erros.items():\n",
    "\t\t\toutput.write(str(k)+'\\n')\n",
    "\t\t\toutput.write(str(v)+'\\n')\n",
    "\n",
    "# Avaliação de erro do ARIMA\n",
    "def evaluate_forecasts(test, forecasts, n_steps):\n",
    "    sum_rmse = 0\n",
    "    sum_mape = 0\n",
    "    for i in range(n_steps):\n",
    "        ypred_ts = [forecast[i] for forecast in forecasts]\n",
    "        ytrue_ts = test[i:len(ypred_ts)+i]\n",
    "        # Calculando os erros\n",
    "        mape = mean_absolute_percentage_error(ytrue_ts, ypred_ts)*100\n",
    "        rmse = sqrt(mean_squared_error(ytrue_ts, ypred_ts))\n",
    "        sum_rmse += rmse\n",
    "        sum_mape += mape\n",
    "        print(f\"t+{(i+1)} RMSE: {rmse} | MAPE: {mape}\")\n",
    "\n",
    "    # média dos erros\n",
    "    print(f\"Média do RMSE: {sum_rmse/n_steps}\")\n",
    "    print(f\"Média do MAPE: {sum_mape/n_steps}\")\n",
    "\n",
    "# Treinamento de previsão por ARIMA por multiplos passos\n",
    "def arima_forecast(train, config, n_steps):\n",
    "\tp, d, q = config\n",
    "\t# Definindo e moldando o modelo\n",
    "\tmodel = ARIMA(train, order=(p,d,q), trend=None, trend_offset=1)\n",
    "\tmodel_fit = model.fit()\n",
    "\n",
    "\t# Fazendo previsão com multiplos passos\n",
    "\tyhat = model_fit.predict(len(train), len(train)+n_steps-1)\n",
    "\tyhat_list = [value for value in yhat]\n",
    "\n",
    "\treturn yhat_list"
   ],
   "metadata": {
    "collapsed": false,
    "pycharm": {
     "name": "#%%\n"
    }
   }
  },
  {
   "cell_type": "markdown",
   "source": [
    "## 2.3 Treinamento e resultado"
   ],
   "metadata": {
    "collapsed": false
   }
  },
  {
   "cell_type": "code",
   "execution_count": 15,
   "outputs": [
    {
     "name": "stdout",
     "output_type": "stream",
     "text": [
      "t=(390 de 391) -> Predito=11981.756179, Esperado=12271.288000Ultimos 10 valores:\n",
      "Predito=[12253.01644313324, 12351.61128839722, 12382.304470904597, 12391.859447636989, 12394.833970736203, 12395.759958094995, 12396.048223662296], Esperado=12115.408\n",
      "Predito=[12293.250532056367, 12348.63004701498, 12365.87502571377, 12371.24504909776, 12372.917254766917, 12373.437973504995, 12373.600123418242], Esperado=11904.916\n",
      "Predito=[12183.91313599942, 12270.830428516228, 12297.908182240797, 12306.34384245912, 12308.971843438921, 12309.790556968283, 12310.045614652168], Esperado=12622.064\n",
      "Predito=[12456.612464467384, 12405.100640154968, 12389.06290417717, 12384.069701573171, 12382.515113551575, 12382.031106771046, 12381.880415680967], Esperado=12365.629\n",
      "Predito=[12366.5276575882, 12366.807407116128, 12366.894492341251, 12366.921601721884, 12366.930040794268, 12366.93266785328, 12366.93348564921], Esperado=12258.734\n",
      "Predito=[12321.11056020282, 12340.527280604632, 12346.571362386896, 12348.452778189087, 12349.03842966573, 12349.220732616357, 12349.277480301853], Esperado=12175.406\n",
      "Predito=[12278.760152885226, 12310.932389732625, 12320.947012221133, 12324.064379038462, 12325.034757690772, 12325.336818623615, 12325.430844607114], Esperado=12367.506\n",
      "Predito=[12348.553369895628, 12342.653960721118, 12340.81764415626, 12340.246051573575, 12340.068131226488, 12340.01274973473, 12339.995511067653], Esperado=11874.637\n",
      "Predito=[12141.767842461248, 12224.902685345629, 12250.775407633073, 12258.827359562472, 12261.333239274436, 12262.113103981266, 12262.355808751992], Esperado=11568.613\n",
      "Predito=[11981.75617869997, 12110.424807074449, 12150.497151920768, 12162.977216733527, 12166.863987480983, 12168.07447693516, 12168.451469769027], Esperado=12271.288\n",
      "t+1 RMSE: 364.1293423645142 | MAPE: 2.5149872829637268\n",
      "t+2 RMSE: 419.35701416904726 | MAPE: 2.8586030459275595\n",
      "t+3 RMSE: 440.9632578676844 | MAPE: 2.9709741652100257\n",
      "t+4 RMSE: 448.01670891965585 | MAPE: 3.0091446558882735\n",
      "t+5 RMSE: 453.77472433535246 | MAPE: 3.060595225607822\n",
      "t+6 RMSE: 460.92716828191163 | MAPE: 3.0731979549777244\n",
      "t+7 RMSE: 468.1345873714161 | MAPE: 3.1297100031140603\n",
      "Média do RMSE: 436.471829044226\n",
      "Média do MAPE: 2.945316047669884\n"
     ]
    },
    {
     "data": {
      "text/plain": "<Figure size 432x288 with 1 Axes>",
      "image/png": "[encoded data removed]"
     },
     "metadata": {},
     "output_type": "display_data"
    }
   ],
   "source": [
    "test = test.values\n",
    "series = series.values\n",
    "train = [x for x in train]\n",
    "\n",
    "n_steps = 7\n",
    "\n",
    "# configurações da previsão ARIMA\n",
    "p_param = 1\n",
    "d_param = 1\n",
    "q_param = 1  # 1, 0\n",
    "config = [p_param, d_param, q_param]\n",
    "\n",
    "# lista para armazenar os paços de predição e a quantidade de predições a frente\n",
    "forecasts = list()\n",
    "forecasts_exp = list()\n",
    "n_forecasts = len(test) - n_steps + 1\n",
    "\n",
    "for i in range(n_forecasts):\n",
    "    yhat = arima_forecast(train, config, n_steps)\n",
    "    # adicionando valor de predição a lista\n",
    "    forecasts.append(yhat)\n",
    "    # Adicionando valor de previsão pelo treino para o proximo loop\n",
    "    obs = test[i]\n",
    "    train.append(obs)\n",
    "    forecasts_exp.append([yhat, obs])\n",
    "    stdout.write(\"\\rt=(%i de %i) -> Predito=%f, Esperado=%f\" % (i, n_forecasts, yhat[0], obs))\n",
    "\n",
    "print(\"Ultimos 10 valores:\")\n",
    "for item in forecasts_exp[-10:]:\n",
    "    print(f\"Predito={item[0]}, Esperado={item[1]}\")\n",
    "\n",
    "# Salvar predições, excedentes e erros\n",
    "save_results_file(test, forecasts, n_steps)\n",
    "# Avaliação da previsão\n",
    "evaluate_forecasts(test, forecasts, n_steps)\n",
    "# Mostrar previsão\n",
    "plot_forecasts(series, forecasts, test)"
   ],
   "metadata": {
    "collapsed": false,
    "pycharm": {
     "name": "#%%\n"
    }
   }
  }
 ],
 "metadata": {
  "kernelspec": {
   "display_name": "Python 3",
   "language": "python",
   "name": "python3"
  },
  "language_info": {
   "codemirror_mode": {
    "name": "ipython",
    "version": 2
   },
   "file_extension": ".py",
   "mimetype": "text/x-python",
   "name": "python",
   "nbconvert_exporter": "python",
   "pygments_lexer": "ipython2",
   "version": "2.7.6"
  }
 },
 "nbformat": 4,
 "nbformat_minor": 0
}