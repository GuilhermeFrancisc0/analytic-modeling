{
 "cells": [
  {
   "cell_type": "markdown",
   "source": [
    "# Importando bibliotecas"
   ],
   "metadata": {
    "collapsed": false
   }
  },
  {
   "cell_type": "code",
   "execution_count": 6,
   "outputs": [],
   "source": [
    "import numpy as np\n",
    "import pandas as pd\n",
    "from datetime import datetime as dt\n",
    "import statsmodels.api as sm\n",
    "from statsmodels.tsa.arima.model import ARIMA\n",
    "from math import sqrt\n",
    "from sklearn.metrics import mean_squared_error, mean_absolute_error, mean_absolute_percentage_error\n",
    "from arch.unitroot import PhillipsPerron as pp\n",
    "import matplotlib.pyplot as plt\n",
    "import seaborn as sns\n",
    "from scipy import stats\n",
    "import warnings\n",
    "warnings.simplefilter('ignore')\n",
    "%matplotlib inline\n",
    "sns.set_style(\"whitegrid\")\n",
    "plt.rc('xtick', labelsize=15)\n",
    "plt.rc('ytick', labelsize=15)"
   ],
   "metadata": {
    "collapsed": false,
    "pycharm": {
     "name": "#%%\n"
    }
   }
  },
  {
   "cell_type": "markdown",
   "source": [
    "# 1. Importando base de dados formatada"
   ],
   "metadata": {
    "collapsed": false
   }
  },
  {
   "cell_type": "markdown",
   "source": [
    "## 1.1 Tratando os dados internos"
   ],
   "metadata": {
    "collapsed": false,
    "pycharm": {
     "name": "#%% md\n"
    }
   }
  },
  {
   "cell_type": "code",
   "execution_count": 7,
   "outputs": [
    {
     "data": {
      "text/plain": "             value       date\nindex                        \n2000-01-01  6205.0 2000-01-01\n2000-01-02  6797.0 2000-01-02\n2000-01-03  7024.0 2000-01-03\n2000-01-04  6921.0 2000-01-04\n2000-01-05  7025.0 2000-01-05",
      "text/html": "<div>\n<style scoped>\n    .dataframe tbody tr th:only-of-type {\n        vertical-align: middle;\n    }\n\n    .dataframe tbody tr th {\n        vertical-align: top;\n    }\n\n    .dataframe thead th {\n        text-align: right;\n    }\n</style>\n<table border=\"1\" class=\"dataframe\">\n  <thead>\n    <tr style=\"text-align: right;\">\n      <th></th>\n      <th>value</th>\n      <th>date</th>\n    </tr>\n    <tr>\n      <th>index</th>\n      <th></th>\n      <th></th>\n    </tr>\n  </thead>\n  <tbody>\n    <tr>\n      <th>2000-01-01</th>\n      <td>6205.0</td>\n      <td>2000-01-01</td>\n    </tr>\n    <tr>\n      <th>2000-01-02</th>\n      <td>6797.0</td>\n      <td>2000-01-02</td>\n    </tr>\n    <tr>\n      <th>2000-01-03</th>\n      <td>7024.0</td>\n      <td>2000-01-03</td>\n    </tr>\n    <tr>\n      <th>2000-01-04</th>\n      <td>6921.0</td>\n      <td>2000-01-04</td>\n    </tr>\n    <tr>\n      <th>2000-01-05</th>\n      <td>7025.0</td>\n      <td>2000-01-05</td>\n    </tr>\n  </tbody>\n</table>\n</div>"
     },
     "execution_count": 7,
     "metadata": {},
     "output_type": "execute_result"
    }
   ],
   "source": [
    "dt_parse = lambda dates: dt.strptime(dates, '%Y-%m-%d')\n",
    "\n",
    "data = pd.read_csv('data/transformed/2000_2021_Brazilian_Northeast_Region_daily_MW_instantaneous_maximum_demand_series.csv',\n",
    "                   header=0, names=['index','value', 'date'], parse_dates=True, index_col='index', date_parser=dt_parse)\n",
    "data['value'] = data['value'].astype(float)\n",
    "data['date'] = data['date'].astype('datetime64')\n",
    "data = data[data['value'] > 0.0]\n",
    "data.head()"
   ],
   "metadata": {
    "collapsed": false,
    "pycharm": {
     "name": "#%%\n"
    }
   }
  },
  {
   "cell_type": "markdown",
   "source": [
    "# 2. ARIMA"
   ],
   "metadata": {
    "collapsed": false
   }
  },
  {
   "cell_type": "markdown",
   "source": [
    "## 2.1 Tratando os dados internos"
   ],
   "metadata": {
    "collapsed": false
   }
  },
  {
   "cell_type": "code",
   "execution_count": 8,
   "outputs": [
    {
     "data": {
      "text/plain": "index\n2000-01-01     6205.000\n2000-01-02     6797.000\n2000-01-03     7024.000\n2000-01-04     6921.000\n2000-01-05     7025.000\n                ...    \n2021-01-27    12308.892\n2021-01-28    12550.095\n2021-01-29    12413.574\n2021-01-30    11988.032\n2021-01-31    11540.266\nName: value, Length: 7702, dtype: float64"
     },
     "execution_count": 8,
     "metadata": {},
     "output_type": "execute_result"
    }
   ],
   "source": [
    "split_date = '1/1/2018 12:00:00 AM'\n",
    "test  = data[split_date : ]\n",
    "train = data[ : split_date]\n",
    "\n",
    "train = train['value']\n",
    "test = test['value']\n",
    "series = pd.concat([train, test], axis=0)\n",
    "\n",
    "series"
   ],
   "metadata": {
    "collapsed": false,
    "pycharm": {
     "name": "#%%\n"
    }
   }
  },
  {
   "cell_type": "markdown",
   "source": [
    "## 2.2 Métodos para treinamento"
   ],
   "metadata": {
    "collapsed": false
   }
  },
  {
   "cell_type": "code",
   "execution_count": 9,
   "outputs": [],
   "source": [
    "# Plot the forecasts in the context of the original dataset\n",
    "def plot_forecasts(series, forecasts, test):\n",
    "\t# f1 = pyplot.figure()\n",
    "\t# Plot the entire dataset in blue\n",
    "\tplt.plot(series)\n",
    "\t# Plot the forecasts in red\n",
    "\tfor i in range(len(forecasts)):\n",
    "        # Start offset for x-axis\n",
    "\t\toff_s = len(series) - len(test) + i - 1\n",
    "        # End offset for x-axis\n",
    "\t\toff_e = off_s + len(forecasts[i]) + 1\n",
    "        # Indexes of x-axis for multi-step forecasts\n",
    "\t\txaxis = [x for x in range(off_s, off_e)]\n",
    "        # Values of muti-step fotecasts\n",
    "\t\tyaxis = [series[off_s]] + forecasts[i]\n",
    "\t\tplt.plot(xaxis, yaxis, color='red')\n",
    "\t# Show the final plot\n",
    "\t# f1.savefig(\"figure.png\", bbox_inches='tight', dpi=600)\n",
    "\tplt.show()\n",
    "\n",
    "# Save predictions, expected and errors\n",
    "def save_results_file(test, forecasts, n_steps):\n",
    "\tpredictions = {}\n",
    "\texpected = {}\n",
    "\terros = {}\n",
    "\tfor i in range(n_steps):\n",
    "\t\t# Picking the values from multi-step forecasts\n",
    "\t\typred_ts = [forecast[i] for forecast in forecasts]\n",
    "\t\t# Store predictions\n",
    "\t\tpredictions['t+' + str(i+1)] = ypred_ts\n",
    "        # Save as an object\n",
    "\t\t# with open('ypred_ts.txt', 'wb') as fp:\n",
    "\t\t\t# pickle.dump(ypred_ts, fp)\n",
    "        # Sliding window on test set\n",
    "\t\tytrue_ts = test[i:len(ypred_ts)+i]\n",
    "        # Convert to list\n",
    "\t\tytrue_ts_lst = [i for i in ytrue_ts]\n",
    "\t\t# Store expected\n",
    "\t\texpected['t+' + str(i+1)] = ytrue_ts_lst\n",
    "\t\t# Calculate erro\n",
    "\t\terro = sqrt(mean_squared_error(ytrue_ts, ypred_ts))\n",
    "\t\t# Store erro\n",
    "\t\terros['t+' + str(i+1)] = erro\n",
    "    # Save predictions to file\n",
    "\twith open('data/retrain/daily_demand_predictions_arima.txt', 'w') as output:\n",
    "\t\tfor k, v in predictions.items():\n",
    "\t\t\toutput.write(str(k)+'\\n')\n",
    "\t\t\toutput.write(str(v)+'\\n')\n",
    "    # Save expected to file\n",
    "\twith open('data/retrain/daily_demand_expected_arima.txt', 'w') as output:\n",
    "\t\tfor k, v in expected.items():\n",
    "\t\t\toutput.write(str(k)+'\\n')\n",
    "\t\t\toutput.write(str(v)+'\\n')\n",
    "    # Save expected to file\n",
    "\twith open('data/retrain/daily_demand_errors_arima.txt', 'w') as output:\n",
    "\t\tfor k, v in erros.items():\n",
    "\t\t\toutput.write(str(k)+'\\n')\n",
    "\t\t\toutput.write(str(v)+'\\n')\n",
    "\n",
    "# Evaluate the RMSE for each forecast time step\n",
    "def evaluate_forecasts(test, forecasts, n_steps):\n",
    "\tfor i in range(n_steps):\n",
    "\t\t# Picking the values from multi-step forecasts\n",
    "\t\typred_ts = [forecast[i] for forecast in forecasts]\n",
    "\t\t# Sliding window on test set\n",
    "\t\tytrue_ts = test[i:len(ypred_ts)+i]\n",
    "\t\tprint('t+%d RMSE: %f | MAPE: %f' % ((i+1), sqrt(mean_squared_error(ytrue_ts, ypred_ts)),\n",
    "                                            mean_absolute_percentage_error(ytrue_ts, ypred_ts)*100))\n",
    "\n",
    "# Multi-step ARIMA's forecast\n",
    "def arima_forecast(train, config, n_steps):\n",
    "    # Umpack configs\n",
    "\tp, d, q = config\n",
    "\t# Define model\n",
    "\tmodel = ARIMA(train, order=(p,d,q), trend=None, trend_offset=1)\n",
    "\t# Fit model\n",
    "\tmodel_fit = model.fit()\n",
    "\t# print(model_fit.summary())\n",
    "\t# Make the multi-step forecast\n",
    "\tyhat = model_fit.predict(len(train), len(train)+n_steps-1)\n",
    "    # Convert the numpy-array like forecasts to list structure\n",
    "\tyhat_list = [value for value in yhat]\n",
    "\treturn yhat_list"
   ],
   "metadata": {
    "collapsed": false,
    "pycharm": {
     "name": "#%%\n"
    }
   }
  },
  {
   "cell_type": "markdown",
   "source": [
    "## 2.3 Treinamento e resultado"
   ],
   "metadata": {
    "collapsed": false
   }
  },
  {
   "cell_type": "code",
   "execution_count": 10,
   "outputs": [
    {
     "name": "stdout",
     "output_type": "stream",
     "text": [
      "t+1 RMSE: 428.497368 | MAPE: 2.954985\n",
      "t+2 RMSE: 490.299349 | MAPE: 3.382380\n",
      "t+3 RMSE: 504.020377 | MAPE: 3.461854\n"
     ]
    },
    {
     "data": {
      "text/plain": "<Figure size 432x288 with 1 Axes>",
      "image/png": "[encoded data removed]"
     },
     "metadata": {},
     "output_type": "display_data"
    }
   ],
   "source": [
    "test = test.values\n",
    "series = series.values\n",
    "train = [x for x in train]\n",
    "# Number of multi-step\n",
    "n_steps = 3\n",
    "# ARIMA configs\n",
    "p_param = 1\n",
    "d_param = 1\n",
    "q_param = 1  # 1, 0\n",
    "config = [p_param, d_param, q_param]\n",
    "# Store multi-step forecasts\n",
    "forecasts = list()\n",
    "# Number of multi-step forecasts\n",
    "n_forecasts = len(test) - n_steps + 1\n",
    "\n",
    "for i in range(n_forecasts):\n",
    "\t# Make a multi-step forecast\n",
    "\ttry:\n",
    "\t\tyhat = arima_forecast(train, config, n_steps)\n",
    "\texcept:\n",
    "\t\tcontinue\n",
    "    # Store the multi-step forecast\n",
    "\tforecasts.append(yhat)\n",
    "\t# Add actual observation to train for the next loop\n",
    "\tobs = test[i]\n",
    "\ttrain.append(obs)\n",
    "# Save predictions, expected and errors\n",
    "save_results_file(test, forecasts, n_steps)\n",
    "# Evaluate the forecasts\n",
    "evaluate_forecasts(test, forecasts, n_steps)\n",
    "# Plot the forecasts\n",
    "plot_forecasts(series, forecasts, test)"
   ],
   "metadata": {
    "collapsed": false,
    "pycharm": {
     "name": "#%%\n"
    }
   }
  }
 ],
 "metadata": {
  "kernelspec": {
   "display_name": "Python 3",
   "language": "python",
   "name": "python3"
  },
  "language_info": {
   "codemirror_mode": {
    "name": "ipython",
    "version": 2
   },
   "file_extension": ".py",
   "mimetype": "text/x-python",
   "name": "python",
   "nbconvert_exporter": "python",
   "pygments_lexer": "ipython2",
   "version": "2.7.6"
  }
 },
 "nbformat": 4,
 "nbformat_minor": 0
}