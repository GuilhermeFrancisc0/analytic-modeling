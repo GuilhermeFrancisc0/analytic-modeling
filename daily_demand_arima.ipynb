{
 "cells": [
  {
   "cell_type": "markdown",
   "source": [
    "# Importando bibliotecas"
   ],
   "metadata": {
    "collapsed": false
   }
  },
  {
   "cell_type": "code",
   "execution_count": 6,
   "outputs": [],
   "source": [
    "import numpy as np\n",
    "import pandas as pd\n",
    "from datetime import datetime as dt\n",
    "from sys import stdout\n",
    "from statsmodels.tsa.arima.model import ARIMA\n",
    "from math import sqrt\n",
    "from sklearn.metrics import mean_squared_error, mean_absolute_error, mean_absolute_percentage_error\n",
    "from arch.unitroot import PhillipsPerron as pp\n",
    "import matplotlib.pyplot as plt\n",
    "import seaborn as sns\n",
    "from scipy import stats\n",
    "import warnings\n",
    "warnings.simplefilter('ignore')\n",
    "%matplotlib inline\n",
    "sns.set_style(\"whitegrid\")\n",
    "plt.rc('xtick', labelsize=15)\n",
    "plt.rc('ytick', labelsize=15)"
   ],
   "metadata": {
    "collapsed": false,
    "pycharm": {
     "name": "#%%\n"
    }
   }
  },
  {
   "cell_type": "markdown",
   "source": [
    "# 1. Importando base de dados formatada"
   ],
   "metadata": {
    "collapsed": false
   }
  },
  {
   "cell_type": "markdown",
   "source": [
    "## 1.1 Tratando os dados internos"
   ],
   "metadata": {
    "collapsed": false,
    "pycharm": {
     "name": "#%% md\n"
    }
   }
  },
  {
   "cell_type": "code",
   "execution_count": 7,
   "outputs": [
    {
     "data": {
      "text/plain": "             value       date\nindex                        \n2000-01-01  6205.0 2000-01-01\n2000-01-02  6797.0 2000-01-02\n2000-01-03  7024.0 2000-01-03\n2000-01-04  6921.0 2000-01-04\n2000-01-05  7025.0 2000-01-05",
      "text/html": "<div>\n<style scoped>\n    .dataframe tbody tr th:only-of-type {\n        vertical-align: middle;\n    }\n\n    .dataframe tbody tr th {\n        vertical-align: top;\n    }\n\n    .dataframe thead th {\n        text-align: right;\n    }\n</style>\n<table border=\"1\" class=\"dataframe\">\n  <thead>\n    <tr style=\"text-align: right;\">\n      <th></th>\n      <th>value</th>\n      <th>date</th>\n    </tr>\n    <tr>\n      <th>index</th>\n      <th></th>\n      <th></th>\n    </tr>\n  </thead>\n  <tbody>\n    <tr>\n      <th>2000-01-01</th>\n      <td>6205.0</td>\n      <td>2000-01-01</td>\n    </tr>\n    <tr>\n      <th>2000-01-02</th>\n      <td>6797.0</td>\n      <td>2000-01-02</td>\n    </tr>\n    <tr>\n      <th>2000-01-03</th>\n      <td>7024.0</td>\n      <td>2000-01-03</td>\n    </tr>\n    <tr>\n      <th>2000-01-04</th>\n      <td>6921.0</td>\n      <td>2000-01-04</td>\n    </tr>\n    <tr>\n      <th>2000-01-05</th>\n      <td>7025.0</td>\n      <td>2000-01-05</td>\n    </tr>\n  </tbody>\n</table>\n</div>"
     },
     "execution_count": 7,
     "metadata": {},
     "output_type": "execute_result"
    }
   ],
   "source": [
    "dt_parse = lambda dates: dt.strptime(dates, '%Y-%m-%d')\n",
    "\n",
    "data = pd.read_csv('data/transformed/2000_2021_Brazilian_Northeast_Region_daily_MW_instantaneous_maximum_demand_series.csv',\n",
    "                   header=0, names=['index','value', 'date'], parse_dates=True, index_col='index', date_parser=dt_parse)\n",
    "data['value'] = data['value'].astype(float)\n",
    "data['date'] = data['date'].astype('datetime64')\n",
    "data = data[data['value'] > 0.0]\n",
    "data.head()"
   ],
   "metadata": {
    "collapsed": false,
    "pycharm": {
     "name": "#%%\n"
    }
   }
  },
  {
   "cell_type": "markdown",
   "source": [
    "# 2. ARIMA"
   ],
   "metadata": {
    "collapsed": false
   }
  },
  {
   "cell_type": "markdown",
   "source": [
    "## 2.1 Tratando os dados internos"
   ],
   "metadata": {
    "collapsed": false
   }
  },
  {
   "cell_type": "code",
   "execution_count": 8,
   "outputs": [
    {
     "data": {
      "text/plain": "index\n2000-01-01     6205.000\n2000-01-02     6797.000\n2000-01-03     7024.000\n2000-01-04     6921.000\n2000-01-05     7025.000\n                ...    \n2021-01-27    12308.892\n2021-01-28    12550.095\n2021-01-29    12413.574\n2021-01-30    11988.032\n2021-01-31    11540.266\nName: value, Length: 7702, dtype: float64"
     },
     "execution_count": 8,
     "metadata": {},
     "output_type": "execute_result"
    }
   ],
   "source": [
    "split_date = '1/6/2019 12:00:00 AM'\n",
    "test  = data[split_date : ]\n",
    "train = data[ : split_date]\n",
    "\n",
    "train = train['value']\n",
    "test = test['value']\n",
    "series = pd.concat([train, test], axis=0)\n",
    "\n",
    "series"
   ],
   "metadata": {
    "collapsed": false,
    "pycharm": {
     "name": "#%%\n"
    }
   }
  },
  {
   "cell_type": "markdown",
   "source": [
    "## 2.2 Métodos para treinamento"
   ],
   "metadata": {
    "collapsed": false
   }
  },
  {
   "cell_type": "code",
   "execution_count": 9,
   "outputs": [],
   "source": [
    "# Mostrar previsão de acordo com os dados originais\n",
    "def plot_forecasts(series, forecasts, test):\n",
    "\tplt.plot(series) # blue\n",
    "\n",
    "\t# Colocando no gráfico as previsões com a cor vermelha\n",
    "\tfor i in range(len(forecasts)):\n",
    "        # Inicio e fim dos dos deslocamentos por x\n",
    "\t\toff_s = len(series) - len(test) + i - 1\n",
    "\t\toff_e = off_s + len(forecasts[i]) + 1\n",
    "\t\txaxis = [x for x in range(off_s, off_e)]\n",
    "\n",
    "        # Valores dos multiplos passos de previsão\n",
    "\t\tyaxis = [series[off_s]] + forecasts[i]\n",
    "\t\tplt.plot(xaxis, yaxis, color='red')\n",
    "\n",
    "\t# Gráfico\n",
    "\tplt.show()\n",
    "\n",
    "# Salvar predições, excedentes e erros\n",
    "def save_results_file(test, forecasts, n_steps):\n",
    "\tpredictions = {}\n",
    "\texpected = {}\n",
    "\terros = {}\n",
    "\tfor i in range(n_steps):\n",
    "\t\t# Pegando os valores de multiplos passos de previsão\n",
    "\t\typred_ts = [forecast[i] for forecast in forecasts]\n",
    "\t\t# Salvando previsão\n",
    "\t\tpredictions['t+' + str(i+1)] = ypred_ts\n",
    "\t\tytrue_ts = test[i:len(ypred_ts)+i]\n",
    "\t\tytrue_ts_lst = [i for i in ytrue_ts]\n",
    "\n",
    "\t\t# Salvando excedente\n",
    "\t\texpected['t+' + str(i+1)] = ytrue_ts_lst\n",
    "\n",
    "\t\t# Calculando e salvando erro\n",
    "\t\terro = sqrt(mean_squared_error(ytrue_ts, ypred_ts))\n",
    "\t\terros['t+' + str(i+1)] = erro\n",
    "\n",
    "\twith open('data/retrain/daily_demand_predictions_arima.txt', 'w') as output:\n",
    "\t\tfor k, v in predictions.items():\n",
    "\t\t\toutput.write(str(k)+'\\n')\n",
    "\t\t\toutput.write(str(v)+'\\n')\n",
    "\n",
    "\twith open('data/retrain/daily_demand_expected_arima.txt', 'w') as output:\n",
    "\t\tfor k, v in expected.items():\n",
    "\t\t\toutput.write(str(k)+'\\n')\n",
    "\t\t\toutput.write(str(v)+'\\n')\n",
    "\n",
    "\twith open('data/retrain/daily_demand_errors_arima.txt', 'w') as output:\n",
    "\t\tfor k, v in erros.items():\n",
    "\t\t\toutput.write(str(k)+'\\n')\n",
    "\t\t\toutput.write(str(v)+'\\n')\n",
    "\n",
    "# Avaliação de erro do ARIMA\n",
    "def evaluate_forecasts(test, forecasts, n_steps):\n",
    "    sum_rmse = 0\n",
    "    sum_mape = 0\n",
    "    for i in range(n_steps):\n",
    "        ypred_ts = [forecast[i] for forecast in forecasts]\n",
    "        ytrue_ts = test[i:len(ypred_ts)+i]\n",
    "        # Calculando os erros\n",
    "        mape = mean_absolute_percentage_error(ytrue_ts, ypred_ts)*100\n",
    "        rmse = sqrt(mean_squared_error(ytrue_ts, ypred_ts))\n",
    "        sum_rmse += rmse\n",
    "        sum_mape += mape\n",
    "        print(f\"t+{(i+1)} RMSE: {rmse} | MAPE: {mape}\")\n",
    "\n",
    "    # média dos erros\n",
    "    print(f\"Média do RMSE: {sum_rmse/n_steps}\")\n",
    "    print(f\"Média do MAPE: {sum_mape/n_steps}\")\n",
    "\n",
    "# Treinamento de previsão por ARIMA por multiplos passos\n",
    "def arima_forecast(train, config, n_steps):\n",
    "\tp, d, q = config\n",
    "\t# Definindo e moldando o modelo\n",
    "\tmodel = ARIMA(train, order=(p,d,q), trend=None, trend_offset=1)\n",
    "\tmodel_fit = model.fit()\n",
    "\n",
    "\t# Fazendo previsão com multiplos passos\n",
    "\tyhat = model_fit.predict(len(train), len(train)+n_steps-1)\n",
    "\tyhat_list = [value for value in yhat]\n",
    "\n",
    "\treturn yhat_list"
   ],
   "metadata": {
    "collapsed": false,
    "pycharm": {
     "name": "#%%\n"
    }
   }
  },
  {
   "cell_type": "markdown",
   "source": [
    "## 2.3 Treinamento e resultado"
   ],
   "metadata": {
    "collapsed": false
   }
  },
  {
   "cell_type": "code",
   "execution_count": 10,
   "outputs": [
    {
     "name": "stdout",
     "output_type": "stream",
     "text": [
      "t=(750 de 751) -> Predito=11982.505163, Esperado=12271.288000Ultimos 10 valores:\n",
      "Predito=[12253.602276570298, 12352.040546909295, 12382.5798320034, 12392.054276554763, 12394.993608607896, 12395.905500895802, 12396.188404470393], Esperado=12115.408\n",
      "Predito=[12293.573812040835, 12348.866651086357, 12366.026497943021, 12371.35196773671, 12373.004699766336, 12373.517616610778, 12373.67679770281], Esperado=11904.916\n",
      "Predito=[12184.419575780707, 12271.201810673672, 12298.146568972317, 12306.512566928786, 12309.110100780525, 12309.91660134938, 12310.167009315046], Esperado=12622.064\n",
      "Predito=[12456.304204755881, 12404.873253528507, 12388.91556764782, 12383.964312954107, 12382.428067459285, 12381.951410456897, 12381.80351619215], Esperado=12365.629\n",
      "Predito=[12366.526503242643, 12366.804935424725, 12366.891313363361, 12366.91811036731, 12366.926423594416, 12366.929002604555, 12366.929802690154], Esperado=12258.734\n",
      "Predito=[12321.223717564848, 12340.609566149562, 12346.623533566833, 12348.489214294605, 12349.067994380439, 12349.247546209845, 12349.303247607028], Esperado=12175.406\n",
      "Predito=[12278.946149164758, 12311.065735815186, 12321.02967593809, 12324.120628005854, 12325.079484097658, 12325.376934522197, 12325.469207758833], Esperado=12367.506\n",
      "Predito=[12348.517540212777, 12342.626904288507, 12340.799500066094, 12340.232599270488, 12340.056734233012, 12340.002177048324, 12339.985252215258], Esperado=11874.637\n",
      "Predito=[12142.249274548049, 12225.249547126225, 12250.992182659988, 12258.976292394085, 12261.452573743076, 12262.220595416571, 12262.458798273125], Esperado=11568.613\n",
      "Predito=[11982.505162685115, 12110.972008290613, 12150.846477796775, 12163.223004292026, 12167.064520178876, 12168.25687768844, 12168.626970243693], Esperado=12271.288\n",
      "t+1 RMSE: 409.35228045510723 | MAPE: 2.8103723325453056\n",
      "t+2 RMSE: 471.5519530001577 | MAPE: 3.223240935691719\n",
      "t+3 RMSE: 486.6305213603466 | MAPE: 3.3037513789263966\n",
      "t+4 RMSE: 491.20318197963525 | MAPE: 3.322148199703259\n",
      "t+5 RMSE: 493.0212816128842 | MAPE: 3.3413006065305053\n",
      "t+6 RMSE: 493.0613447093211 | MAPE: 3.3270647927209573\n",
      "t+7 RMSE: 497.9001804853914 | MAPE: 3.376136717524237\n",
      "Média do RMSE: 477.5315348004062\n",
      "Média do MAPE: 3.2434307090917684\n"
     ]
    },
    {
     "data": {
      "text/plain": "<Figure size 432x288 with 1 Axes>",
      "image/png": "[encoded data removed]"
     },
     "metadata": {},
     "output_type": "display_data"
    }
   ],
   "source": [
    "test = test.values\n",
    "series = series.values\n",
    "train = [x for x in train]\n",
    "\n",
    "n_steps = 7\n",
    "\n",
    "# configurações da previsão ARIMA\n",
    "p_param = 1\n",
    "d_param = 1\n",
    "q_param = 1  # 1, 0\n",
    "config = [p_param, d_param, q_param]\n",
    "\n",
    "# lista para armazenar os paços de predição e a quantidade de predições a frente\n",
    "forecasts = list()\n",
    "forecasts_exp = list()\n",
    "n_forecasts = len(test) - n_steps + 1\n",
    "\n",
    "for i in range(n_forecasts):\n",
    "    yhat = arima_forecast(train, config, n_steps)\n",
    "    # adicionando valor de predição a lista\n",
    "    forecasts.append(yhat)\n",
    "    # Adicionando valor de previsão pelo treino para o proximo loop\n",
    "    obs = test[i]\n",
    "    train.append(obs)\n",
    "    forecasts_exp.append([yhat, obs])\n",
    "    stdout.write(\"\\rt=(%i de %i) -> Predito=%f, Esperado=%f\" % (i, n_forecasts, yhat[0], obs))\n",
    "\n",
    "print(\"Ultimos 10 valores:\")\n",
    "for item in forecasts_exp[-10:]:\n",
    "    print(f\"Predito={item[0]}, Esperado={item[1]}\")\n",
    "\n",
    "# Salvar predições, excedentes e erros\n",
    "save_results_file(test, forecasts, n_steps)\n",
    "# Avaliação da previsão\n",
    "evaluate_forecasts(test, forecasts, n_steps)\n",
    "# Mostrar previsão\n",
    "plot_forecasts(series, forecasts, test)"
   ],
   "metadata": {
    "collapsed": false,
    "pycharm": {
     "name": "#%%\n"
    }
   }
  }
 ],
 "metadata": {
  "kernelspec": {
   "display_name": "Python 3",
   "language": "python",
   "name": "python3"
  },
  "language_info": {
   "codemirror_mode": {
    "name": "ipython",
    "version": 2
   },
   "file_extension": ".py",
   "mimetype": "text/x-python",
   "name": "python",
   "nbconvert_exporter": "python",
   "pygments_lexer": "ipython2",
   "version": "2.7.6"
  }
 },
 "nbformat": 4,
 "nbformat_minor": 0
}