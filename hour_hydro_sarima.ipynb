{
 "cells": [
  {
   "cell_type": "markdown",
   "metadata": {},
   "source": [
    "# Importando bibliotecas"
   ]
  },
  {
   "cell_type": "code",
   "execution_count": 6,
   "metadata": {
    "pycharm": {
     "name": "#%%\n"
    }
   },
   "outputs": [],
   "source": [
    "import numpy as np\n",
    "import pandas as pd\n",
    "from datetime import datetime as dt\n",
    "from sys import stdout\n",
    "from statsmodels.tsa.statespace.sarimax import SARIMAX\n",
    "from math import sqrt\n",
    "from sklearn.metrics import mean_squared_error, mean_absolute_error, mean_absolute_percentage_error\n",
    "from arch.unitroot import PhillipsPerron as pp\n",
    "import matplotlib.pyplot as plt\n",
    "import seaborn as sns\n",
    "from scipy import stats\n",
    "import warnings\n",
    "warnings.simplefilter('ignore')\n",
    "%matplotlib inline\n",
    "sns.set_style(\"whitegrid\")\n",
    "plt.rc('xtick', labelsize=15)\n",
    "plt.rc('ytick', labelsize=15)"
   ]
  },
  {
   "cell_type": "markdown",
   "metadata": {},
   "source": [
    "# 1. Importando base de dados formatada"
   ]
  },
  {
   "cell_type": "markdown",
   "metadata": {
    "pycharm": {
     "name": "#%% md\n"
    }
   },
   "source": [
    "## 1.1 Tratando os dados internos"
   ]
  },
  {
   "cell_type": "code",
   "execution_count": 7,
   "metadata": {
    "pycharm": {
     "name": "#%%\n"
    }
   },
   "outputs": [
    {
     "data": {
      "text/html": [
       "<div>\n",
       "<style scoped>\n",
       "    .dataframe tbody tr th:only-of-type {\n",
       "        vertical-align: middle;\n",
       "    }\n",
       "\n",
       "    .dataframe tbody tr th {\n",
       "        vertical-align: top;\n",
       "    }\n",
       "\n",
       "    .dataframe thead th {\n",
       "        text-align: right;\n",
       "    }\n",
       "</style>\n",
       "<table border=\"1\" class=\"dataframe\">\n",
       "  <thead>\n",
       "    <tr style=\"text-align: right;\">\n",
       "      <th></th>\n",
       "      <th>value</th>\n",
       "      <th>date</th>\n",
       "    </tr>\n",
       "    <tr>\n",
       "      <th>index</th>\n",
       "      <th></th>\n",
       "      <th></th>\n",
       "    </tr>\n",
       "  </thead>\n",
       "  <tbody>\n",
       "    <tr>\n",
       "      <th>2000-01-01 00:00:00</th>\n",
       "      <td>2422.5</td>\n",
       "      <td>2000-01-01 00:00:00</td>\n",
       "    </tr>\n",
       "    <tr>\n",
       "      <th>2000-01-01 01:00:00</th>\n",
       "      <td>2769.3</td>\n",
       "      <td>2000-01-01 01:00:00</td>\n",
       "    </tr>\n",
       "    <tr>\n",
       "      <th>2000-01-01 02:00:00</th>\n",
       "      <td>3124.7</td>\n",
       "      <td>2000-01-01 02:00:00</td>\n",
       "    </tr>\n",
       "    <tr>\n",
       "      <th>2000-01-01 03:00:00</th>\n",
       "      <td>3154.6</td>\n",
       "      <td>2000-01-01 03:00:00</td>\n",
       "    </tr>\n",
       "    <tr>\n",
       "      <th>2000-01-01 04:00:00</th>\n",
       "      <td>3121.8</td>\n",
       "      <td>2000-01-01 04:00:00</td>\n",
       "    </tr>\n",
       "  </tbody>\n",
       "</table>\n",
       "</div>"
      ],
      "text/plain": [
       "                      value                date\n",
       "index                                          \n",
       "2000-01-01 00:00:00  2422.5 2000-01-01 00:00:00\n",
       "2000-01-01 01:00:00  2769.3 2000-01-01 01:00:00\n",
       "2000-01-01 02:00:00  3124.7 2000-01-01 02:00:00\n",
       "2000-01-01 03:00:00  3154.6 2000-01-01 03:00:00\n",
       "2000-01-01 04:00:00  3121.8 2000-01-01 04:00:00"
      ]
     },
     "execution_count": 7,
     "metadata": {},
     "output_type": "execute_result"
    }
   ],
   "source": [
    "# conversor de data\n",
    "dt_parse = lambda dates: dt.strptime(dates, '%Y-%m-%d %H:%M:%S')\n",
    "# importação de csv com os dados e indexação deles pela data\n",
    "data = pd.read_csv('data/transformed/2000_2021_Brazilian_North_Region_hourly_MWmed_hydroelectric_power_series.csv',\n",
    "                   header=0, names=['index','value', 'date'], parse_dates=True, index_col='index', date_parser=dt_parse)\n",
    "# definição dos tipos de dados\n",
    "data['value'] = data['value'].astype(float)\n",
    "data['date'] = data['date'].astype('datetime64')\n",
    "data = data[data['value'] > 0.0]\n",
    "data.head()"
   ]
  },
  {
   "cell_type": "markdown",
   "metadata": {},
   "source": [
    "# 2. SARIMA"
   ]
  },
  {
   "cell_type": "markdown",
   "metadata": {},
   "source": [
    "## 2.1 Tratando os dados internos"
   ]
  },
  {
   "cell_type": "code",
   "execution_count": 8,
   "metadata": {
    "pycharm": {
     "name": "#%%\n"
    }
   },
   "outputs": [
    {
     "data": {
      "text/plain": [
       "index\n",
       "2020-01-12 12:00:00    8079.813\n",
       "2020-01-12 13:00:00    8206.300\n",
       "2020-01-12 14:00:00    8198.391\n",
       "2020-01-12 15:00:00    8248.761\n",
       "2020-01-12 16:00:00    8241.517\n",
       "                         ...   \n",
       "2021-01-30 20:00:00    7217.682\n",
       "2021-01-30 21:00:00    7187.145\n",
       "2021-01-30 22:00:00    6658.727\n",
       "2021-01-30 23:00:00    6529.498\n",
       "2021-01-31 00:00:00    6279.152\n",
       "Name: value, Length: 9230, dtype: float64"
      ]
     },
     "execution_count": 8,
     "metadata": {},
     "output_type": "execute_result"
    }
   ],
   "source": [
    "split_date = '1/1/2021 12:00:00 AM'\n",
    "test  = data[split_date : ]\n",
    "train = data['1/12/2020 12:00:00 PM' : split_date]\n",
    "\n",
    "train = train['value']\n",
    "test = test['value']\n",
    "series = pd.concat([train, test], axis=0)\n",
    "\n",
    "series"
   ]
  },
  {
   "cell_type": "markdown",
   "metadata": {},
   "source": [
    "## 2.2 Métodos para treinamento"
   ]
  },
  {
   "cell_type": "code",
   "execution_count": 9,
   "metadata": {
    "pycharm": {
     "name": "#%%\n"
    }
   },
   "outputs": [],
   "source": [
    "# Mostrar previsão de acordo com os dados originais\n",
    "def plot_forecasts(series, forecasts, test):\n",
    "\tplt.plot(series) # blue\n",
    "\n",
    "\t# Colocando no gráfico as previsões com a cor vermelha\n",
    "\tfor i in range(len(forecasts)):\n",
    "        # Inicio e fim dos dos deslocamentos por x\n",
    "\t\toff_s = len(series) - len(test) + i - 1\n",
    "\t\toff_e = off_s + len(forecasts[i]) + 1\n",
    "\t\txaxis = [x for x in range(off_s, off_e)]\n",
    "\n",
    "        # Valores dos multiplos passos de previsão\n",
    "\t\tyaxis = [series[off_s]] + forecasts[i]\n",
    "\t\tplt.plot(xaxis, yaxis, color='red')\n",
    "\n",
    "\t# Gráfico\n",
    "\tplt.show()\n",
    "\n",
    "# Avaliação de erro do SARIMA\n",
    "def evaluate_forecasts(test, forecasts, n_steps):\n",
    "    sum_rmse = 0\n",
    "    sum_mape = 0\n",
    "    for i in range(n_steps):\n",
    "        ypred_ts = [forecast[i] for forecast in forecasts]\n",
    "        ytrue_ts = test[i:len(ypred_ts)+i]\n",
    "        # Calculando os erros\n",
    "        mape = mean_absolute_percentage_error(ytrue_ts, ypred_ts)*100\n",
    "        rmse = sqrt(mean_squared_error(ytrue_ts, ypred_ts))\n",
    "        sum_rmse += rmse\n",
    "        sum_mape += mape\n",
    "        print(f\"t+{(i+1)} RMSE: {rmse} | MAPE: {mape}\")\n",
    "\n",
    "    # média dos erros\n",
    "    print(f\"Média do RMSE: {sum_rmse/n_steps}\")\n",
    "    print(f\"Média do MAPE: {sum_mape/n_steps}\")\n",
    "\n",
    "# Treinamento de previsão por ARIMA por multiplos passos\n",
    "def sarima_forecast(train, config, n_steps):\n",
    "\torder, s_order, trend = config\n",
    "\t# Definindo e moldando o modelo\n",
    "\tmodel = SARIMAX(train, order=order, seasonal_order=s_order, trend=trend, enforce_stationarity=False,\n",
    "                            enforce_invertibility=False)\n",
    "\tmodel_fit = model.fit()\n",
    "\n",
    "\t# Fazendo previsão com multiplos passos\n",
    "\tyhat = model_fit.predict(len(train), len(train)+n_steps-1)\n",
    "\tyhat_list = [value for value in yhat]\n",
    "\n",
    "\treturn yhat_list"
   ]
  },
  {
   "cell_type": "markdown",
   "metadata": {},
   "source": [
    "## 2.3 Treinamento e resultado"
   ]
  },
  {
   "cell_type": "code",
   "execution_count": 10,
   "metadata": {
    "pycharm": {
     "name": "#%%\n"
    }
   },
   "outputs": [
    {
     "name": "stdout",
     "output_type": "stream",
     "text": [
      "\tt=(697 de 698) -> Predito=5128.416927, Esperado=5425.253000Ultimos 10 valores:\n",
      "Predito=[9408.731127008465, 9721.387738729478, 10312.010097190156, 10298.385259695013, 10425.57262651028, 10713.100156515511, 11308.514460096945, 11295.401972360616, 11443.768883893375, 11743.642485127404, 12336.817404634503, 12323.77616582515, 12462.001695330084, 12756.187932522686, 13350.974557311523, 13338.406545238635, 13482.205154772651, 13779.747330239223, 14374.252259264074, 14361.971393699065, 14503.51471989474, 14799.907572656608, 15395.077335939533, 15383.177809459961], Esperado=8566.823\n",
      "Predito=[8434.855916315073, 8790.479024709432, 8652.483062428419, 8291.718091037359, 8321.210320895465, 8779.91140424093, 8694.104651594678, 8172.126317176976, 8117.444124481713, 8522.687969389042, 8409.650186949624, 7967.335836853165, 7954.122706930524, 8385.63659306315, 8285.851665788601, 7803.502367422424, 7769.325071660441, 8187.466013680415, 8080.806480334631, 7618.166615189688, 7594.187085555867, 8018.739781816993, 7915.250800592448, 7442.5208018724325], Esperado=8271.562\n",
      "Predito=[8540.898850562482, 8357.271210801726, 7972.345124592258, 7907.16583301833, 8315.768401797197, 8203.393988883834, 7667.270341108927, 7482.530109251654, 7818.933788345395, 7669.374471410661, 7207.606350835918, 7081.742622502712, 7453.556400132083, 7322.025045425967, 6822.688614287621, 6667.001497861163, 7020.710141740754, 6879.750992624053, 6398.723703822716, 6257.484010702546, 6619.795448742931, 6483.110936800998, 5992.522227752268, 5843.647557158384], Esperado=8012.252\n",
      "Predito=[7549.217060016254, 7016.584214415284, 6873.185897164971, 6975.370464325972, 6700.829230810027, 6078.717229898494, 5848.217917586312, 5763.6215740005955, 5391.211367827071, 4811.292560444017, 4622.522808682728, 4629.772203450646, 4305.047111352462, 3703.036607711666, 3492.4624954134274, 3452.9319064629135, 3103.4759647064157, 2511.5573738410817, 2310.9360174265457, 2293.821745640684, 1955.7819196081605, 1357.9053560447092, 1151.3956419457184, 1122.1744289628698], Esperado=8290.312\n",
      "Predito=[8149.069258438192, 8212.550128768427, 8424.188661912824, 8579.145647975225, 8184.203637478808, 8074.08684370842, 8053.511180093354, 8271.196598190561, 8003.394043476106, 7980.070600219672, 8075.323805551442, 8261.60061302096, 7930.201568718722, 7863.37780884357, 7900.630690180484, 8102.346821008532, 7802.439267022324, 7757.0798322406445, 7823.028959614859, 8016.805951108339, 7700.9513946557, 7644.646690477161, 7696.042830589018, 7893.5419636231945], Esperado=8289.579\n",
      "Predito=[8427.297649045435, 8678.226583814443, 8853.978743955551, 8540.501450050371, 8473.512563615022, 8475.838399390264, 8705.753777601272, 8549.933434699125, 8585.917705095597, 8712.700856247657, 8915.809414143772, 8681.435434281639, 8666.086066453845, 8730.785345272598, 8947.256391823843, 8752.051636375656, 8762.287145393339, 8857.931936655576, 9067.708175594058, 8852.93334445501, 8850.375431570897, 8930.552271962806, 9143.638625525671, 8938.59712595943], Esperado=8273.642\n",
      "Predito=[8443.443378488066, 8576.347451381358, 8240.214967425301, 8084.218193002516, 8039.502104828271, 8244.516008888259, 8075.475045981845, 7989.159333618161, 8051.289909650003, 8220.170809070378, 7967.618802252592, 7846.390502299275, 7855.069170022747, 8041.827665278127, 7830.78930273945, 7726.830418118306, 7762.027374268566, 7939.719856813256, 7707.824118992042, 7595.1026499733025, 7616.923005182065, 7798.990918487832, 7577.352989985149, 7468.855554452965], Esperado=7498.538\n",
      "Predito=[7133.0813907706, 6533.985308455724, 6238.89794506117, 5646.632112219481, 5562.316410592575, 5240.126686205005, 5072.481009765585, 4382.476665355548, 4154.106832551447, 3691.386810349044, 3458.45147495856, 2815.783537936063, 2658.0416798164897, 2264.302507265841, 2062.9045227298543, 1395.6697444360877, 1201.7680927866188, 772.6984011571154, 554.6366073472382, -101.29661791695712, -278.11751494630255, -690.5192550745859, -901.2166467689866, -1563.7237659423856], Esperado=6300.131\n",
      "Predito=[5260.415924135668, 4732.236529767012, 4016.795170352309, 3449.8445887134244, 2872.126369064929, 2568.9037942496984, 1806.6780953002901, 914.8351315808568, 100.56428141529346, -318.9424516164139, -1060.814888597887, -1792.989182615212, -2491.3732127820876, -2854.8443238229265, -3608.7727477696867, -4422.469503312137, -5180.5090862608795, -5573.762053812712, -6323.492895496289, -7098.32966655945, -7828.417967808758, -8208.624069207955, -8962.261405499012, -9758.299020466766], Esperado=5519.645\n",
      "Predito=[5128.416926551887, 4485.367542592475, 3956.723674826633, 3529.20452392689, 3305.4094302013514, 2585.2452664655834, 1715.7353932987535, 1107.8035265642275, 797.427790096418, 113.36313881376743, -588.1003988000746, -1107.8567057587559, -1376.7754993449607, -2080.5414815081203, -2867.5125325482736, -3432.9116939141823, -3724.1563397574837, -4419.730277491862, -5165.674267046342, -5709.935489880966, -5991.675602546059, -6692.971487069326, -7461.020148596654, -8017.4627985666575], Esperado=5425.253\n",
      "t+1 RMSE: 344.9085168096192 | MAPE: 4.3585175184846845\n",
      "t+2 RMSE: 624.2261121930271 | MAPE: 7.913695372560313\n",
      "t+3 RMSE: 854.3440519891246 | MAPE: 10.848083624927574\n",
      "t+4 RMSE: 1060.5540121931022 | MAPE: 13.442511400442653\n",
      "t+5 RMSE: 1291.187307172155 | MAPE: 16.673945853562234\n",
      "t+6 RMSE: 1514.704967569206 | MAPE: 19.723829817631614\n",
      "t+7 RMSE: 1738.815166725731 | MAPE: 22.696585395758806\n",
      "t+8 RMSE: 1961.6717222159527 | MAPE: 25.468556487488712\n",
      "t+9 RMSE: 2209.913970850787 | MAPE: 28.314175210856853\n",
      "t+10 RMSE: 2458.6505403363803 | MAPE: 31.332996119246243\n",
      "t+11 RMSE: 2687.5737090481125 | MAPE: 34.14292544772343\n",
      "t+12 RMSE: 2892.5670739392212 | MAPE: 36.76388916441165\n",
      "t+13 RMSE: 3116.005787795727 | MAPE: 39.89278360838825\n",
      "t+14 RMSE: 3327.5534025495085 | MAPE: 43.16004589927057\n",
      "t+15 RMSE: 3513.6318330345066 | MAPE: 45.92287141359622\n",
      "t+16 RMSE: 3683.5512646226643 | MAPE: 48.195188154581686\n",
      "t+17 RMSE: 3837.7487663965585 | MAPE: 50.257838750129125\n",
      "t+18 RMSE: 3968.0454423255196 | MAPE: 51.92792261392424\n",
      "t+19 RMSE: 4098.445627045199 | MAPE: 53.46197553932021\n",
      "t+20 RMSE: 4214.393082983354 | MAPE: 54.50181190985798\n",
      "t+21 RMSE: 4304.051470093572 | MAPE: 55.361288540937196\n",
      "t+22 RMSE: 4365.752252284769 | MAPE: 55.98818356325413\n",
      "t+23 RMSE: 4412.421152323017 | MAPE: 56.56911294722058\n",
      "t+24 RMSE: 4470.55064335112 | MAPE: 57.007837290556\n",
      "Média do RMSE: 2789.6361614936645\n",
      "Média do MAPE: 35.99694048517212\n"
     ]
    },
    {
     "data": {
      "image/png": "[encoded data removed]",
      "text/plain": [
       "<Figure size 432x288 with 1 Axes>"
      ]
     },
     "metadata": {},
     "output_type": "display_data"
    }
   ],
   "source": [
    "test = test.values\n",
    "series = series.values\n",
    "train = [x for x in train]\n",
    "\n",
    "n_steps = 24\n",
    "\n",
    "# Ordem de tendencial\n",
    "p_param = 1\n",
    "d_param = 1\n",
    "q_param = 0\n",
    "# Periodo e ordem sazonal\n",
    "P_param = 1\n",
    "D_param = 1\n",
    "Q_param = 0\n",
    "m_param = 4\n",
    "# Tipo de tendencia\n",
    "t_params = 'ct'  # outros tipos: 'n','c','t','ct'\n",
    "# configuração\n",
    "config = [(p_param,d_param,q_param), (P_param,D_param,Q_param,m_param), t_params]\n",
    "\n",
    "# lista para armazenar os paços de predição e a quantidade de predições a frente\n",
    "forecasts = list()\n",
    "forecasts_exp = list()\n",
    "n_forecasts = len(test) - n_steps + 1\n",
    "\n",
    "for i in range(n_forecasts):\n",
    "    # prevendo valor por sarima\n",
    "    yhat = sarima_forecast(train, config, n_steps)\n",
    "    # adicionando valor de predição a lista\n",
    "    forecasts.append(yhat)\n",
    "    # Adicionando valor de previsão pelo treino para o proximo loop\n",
    "    obs = test[i]\n",
    "    train.append(obs)\n",
    "    forecasts_exp.append([yhat, obs])\n",
    "    stdout.write(\"\\r\\tt=(%i de %i) -> Predito=%f, Esperado=%f\" % (i, n_forecasts, yhat[0], obs))\n",
    "\n",
    "print(\"Ultimos 10 valores:\")\n",
    "for item in forecasts_exp[-10:]:\n",
    "    print(f\"Predito={item[0]}, Esperado={item[1]}\")\n",
    "\n",
    "# Avaliação da previsão\n",
    "evaluate_forecasts(test, forecasts, n_steps)\n",
    "# Mostrar previsão\n",
    "plot_forecasts(series, forecasts, test)"
   ]
  },
  {
   "cell_type": "code",
   "execution_count": null,
   "metadata": {},
   "outputs": [],
   "source": []
  }
 ],
 "metadata": {
  "kernelspec": {
   "display_name": "Python 3",
   "language": "python",
   "name": "python3"
  },
  "language_info": {
   "codemirror_mode": {
    "name": "ipython",
    "version": 3
   },
   "file_extension": ".py",
   "mimetype": "text/x-python",
   "name": "python",
   "nbconvert_exporter": "python",
   "pygments_lexer": "ipython3",
   "version": "3.9.1"
  }
 },
 "nbformat": 4,
 "nbformat_minor": 1
}
